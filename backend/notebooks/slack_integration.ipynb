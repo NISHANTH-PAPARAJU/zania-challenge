{
 "cells": [
  {
   "cell_type": "code",
   "execution_count": 4,
   "metadata": {},
   "outputs": [
    {
     "data": {
      "text/plain": [
       "True"
      ]
     },
     "execution_count": 4,
     "metadata": {},
     "output_type": "execute_result"
    }
   ],
   "source": [
    "from dotenv import load_dotenv\n",
    "load_dotenv()"
   ]
  },
  {
   "cell_type": "code",
   "execution_count": 5,
   "metadata": {},
   "outputs": [],
   "source": [
    "import logging\n",
    "import os\n",
    "# Import WebClient from Python SDK (github.com/slackapi/python-slack-sdk)\n",
    "from slack_sdk import WebClient\n",
    "from slack_sdk.errors import SlackApiError\n",
    "\n",
    "# WebClient instantiates a client that can call API methods\n",
    "# When using Bolt, you can use either `app.client` or the `client` passed to listeners.\n",
    "client = WebClient(token=os.environ.get(\"SLACK_BOT_TOKEN\"))\n",
    "logger = logging.getLogger(__name__)"
   ]
  },
  {
   "cell_type": "code",
   "execution_count": 6,
   "metadata": {},
   "outputs": [],
   "source": [
    "# ID of the channel you want to send the message to\n",
    "channel_id = os.getenv(\"SLACK_CHANNEL_ID\")\n",
    "\n",
    "try:\n",
    "    result = client.chat_postMessage(\n",
    "        channel=channel_id, \n",
    "        text=\"Hello world\"\n",
    "    )\n",
    "    logger.info(result)\n",
    "\n",
    "except SlackApiError as e:\n",
    "    logger.error(f\"Error posting message: {e}\")"
   ]
  },
  {
   "cell_type": "code",
   "execution_count": 7,
   "metadata": {},
   "outputs": [],
   "source": [
    "from uuid import uuid4"
   ]
  },
  {
   "cell_type": "code",
   "execution_count": 8,
   "metadata": {},
   "outputs": [],
   "source": [
    "logger = logging.getLogger(__name__)"
   ]
  },
  {
   "cell_type": "code",
   "execution_count": 11,
   "metadata": {},
   "outputs": [],
   "source": [
    "req_id = uuid4()"
   ]
  },
  {
   "cell_type": "code",
   "execution_count": 15,
   "metadata": {},
   "outputs": [],
   "source": [
    "def post_to_slack(message: str, user_id: str, request_id: str) -> None:\n",
    "    \"\"\"\n",
    "    This function takes message, user_id & request_id and posts a message onto the slack channel.\n",
    "    \"\"\"\n",
    "    client = WebClient(token=os.environ.get(\"SLACK_BOT_TOKEN\"))    \n",
    "    channel_id = os.getenv(\"SLACK_CHANNEL_ID\")\n",
    "    try:\n",
    "        result = client.chat_postMessage(\n",
    "            channel=channel_id, \n",
    "            text=f\"\"\"The following is the response for the req_id: {request_id} by user <@{user_id}>.\n",
    "            {message}\n",
    "            \"\"\"\n",
    "        )\n",
    "        logger.info(\"Message Posted.\", extra={\"req_id\": {request_id}, \"user_id\": {user_id}})\n",
    "\n",
    "    except SlackApiError as e:\n",
    "        logger.error(f\"Error posting message: {e}\", extra={\"req_id\": {request_id}, \"user_id\": {user_id}})"
   ]
  },
  {
   "cell_type": "code",
   "execution_count": 16,
   "metadata": {},
   "outputs": [],
   "source": [
    "post_to_slack(\n",
    "    message=\"This is a test message.\", \n",
    "    user_id=\"U0807FT9H6V\", \n",
    "    request_id=\"req-001\"\n",
    ")"
   ]
  }
 ],
 "metadata": {
  "kernelspec": {
   "display_name": "Python 3",
   "language": "python",
   "name": "python3"
  },
  "language_info": {
   "codemirror_mode": {
    "name": "ipython",
    "version": 3
   },
   "file_extension": ".py",
   "mimetype": "text/x-python",
   "name": "python",
   "nbconvert_exporter": "python",
   "pygments_lexer": "ipython3",
   "version": "3.10.15"
  }
 },
 "nbformat": 4,
 "nbformat_minor": 2
}
