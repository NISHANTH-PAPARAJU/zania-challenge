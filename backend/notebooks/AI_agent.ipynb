{
 "cells": [
  {
   "cell_type": "code",
   "execution_count": 1,
   "metadata": {},
   "outputs": [],
   "source": [
    "from llama_index.core import VectorStoreIndex\n",
    "from llama_index.core.agent import AgentRunner, FunctionCallingAgentWorker\n",
    "from llama_index.llms.openai import OpenAI\n",
    "from llama_index.embeddings.openai import OpenAIEmbedding, OpenAIEmbeddingModelType\n",
    "from llama_index.core.tools import QueryEngineTool\n",
    "from llama_index.core import SimpleDirectoryReader\n",
    "from llama_index.core.node_parser import SentenceSplitter\n",
    "from llama_index.core.tools import FunctionTool, QueryEngineTool, ToolMetadata\n",
    "from llama_index.core import Settings"
   ]
  },
  {
   "cell_type": "code",
   "execution_count": 2,
   "metadata": {},
   "outputs": [
    {
     "data": {
      "text/plain": [
       "True"
      ]
     },
     "execution_count": 2,
     "metadata": {},
     "output_type": "execute_result"
    }
   ],
   "source": [
    "from dotenv import load_dotenv\n",
    "load_dotenv()"
   ]
  },
  {
   "cell_type": "code",
   "execution_count": 3,
   "metadata": {},
   "outputs": [],
   "source": [
    "llm = OpenAI(model=\"gpt-4o-mini\")\n",
    "embed_model = OpenAIEmbedding(model=OpenAIEmbeddingModelType.TEXT_EMBED_3_SMALL)\n",
    "Settings.embed_model = embed_model\n",
    "Settings.llm = llm"
   ]
  },
  {
   "cell_type": "markdown",
   "metadata": {},
   "source": [
    "# Improvements\n",
    "- Build a dynamic chunking algorithm based on the given document considering number of pages, words, images in doc, etc."
   ]
  },
  {
   "cell_type": "code",
   "execution_count": 4,
   "metadata": {},
   "outputs": [],
   "source": [
    "documents = SimpleDirectoryReader(input_files=[\"handbook.pdf\"]).load_data()"
   ]
  },
  {
   "cell_type": "code",
   "execution_count": 5,
   "metadata": {},
   "outputs": [],
   "source": [
    "splitter = SentenceSplitter(chunk_size=512, chunk_overlap=64)\n",
    "nodes = splitter.get_nodes_from_documents(documents)"
   ]
  },
  {
   "cell_type": "code",
   "execution_count": 6,
   "metadata": {},
   "outputs": [
    {
     "data": {
      "text/plain": [
       "86"
      ]
     },
     "execution_count": 6,
     "metadata": {},
     "output_type": "execute_result"
    }
   ],
   "source": [
    "len(nodes)"
   ]
  },
  {
   "cell_type": "code",
   "execution_count": 7,
   "metadata": {},
   "outputs": [],
   "source": [
    "index = VectorStoreIndex(\n",
    "    nodes=nodes,\n",
    ")"
   ]
  },
  {
   "cell_type": "code",
   "execution_count": 8,
   "metadata": {},
   "outputs": [],
   "source": [
    "qe = index.as_query_engine(use_async=True)"
   ]
  },
  {
   "cell_type": "markdown",
   "metadata": {},
   "source": [
    "### Sample Tests"
   ]
  },
  {
   "cell_type": "code",
   "execution_count": 62,
   "metadata": {},
   "outputs": [],
   "source": [
    "response = qe.query(\"What is the name of the company?\")"
   ]
  },
  {
   "cell_type": "code",
   "execution_count": 63,
   "metadata": {},
   "outputs": [
    {
     "data": {
      "text/plain": [
       "'Zania, Inc.'"
      ]
     },
     "execution_count": 63,
     "metadata": {},
     "output_type": "execute_result"
    }
   ],
   "source": [
    "str(response)"
   ]
  },
  {
   "cell_type": "code",
   "execution_count": 64,
   "metadata": {},
   "outputs": [
    {
     "name": "stdout",
     "output_type": "stream",
     "text": [
      "Node ID: 3742cc7d-3b65-4bed-bbdd-1108e8cb9c3f\n",
      "Text: Software programs purchased and provided by Zania, Inc. are to\n",
      "be used only for creating, researching, and processing materials for\n",
      "Company use. By using Company hardware, software, and networking\n",
      "systems you assume personal responsibility for their use and agree to\n",
      "comply with this policy and other applicable Company policies, as well\n",
      "as city, ...\n",
      "Score:  0.347\n",
      "\n",
      "Node ID: 1b59923c-e083-463f-9642-f48b61d03bdb\n",
      "Text: financial or sales records/reports, marketing or business\n",
      "strategies/plans, product development, customer lists, patents,\n",
      "trademarks, etc.) related to the Company. Do not create a link from\n",
      "your personal blog, website, or other social networking site to a\n",
      "Company website that identifies you as speaking on behalf of the\n",
      "Company. Never represent y...\n",
      "Score:  0.342\n",
      "\n"
     ]
    }
   ],
   "source": [
    "for node in response.source_nodes:\n",
    "    print(node)"
   ]
  },
  {
   "cell_type": "code",
   "execution_count": 65,
   "metadata": {},
   "outputs": [],
   "source": [
    "from pprint import pprint\n",
    "import json"
   ]
  },
  {
   "cell_type": "code",
   "execution_count": 66,
   "metadata": {},
   "outputs": [
    {
     "name": "stdout",
     "output_type": "stream",
     "text": [
      "{'class_name': 'NodeWithScore',\n",
      " 'node': {'class_name': 'TextNode',\n",
      "          'embedding': None,\n",
      "          'end_char_idx': 2451,\n",
      "          'excluded_embed_metadata_keys': ['file_name',\n",
      "                                           'file_type',\n",
      "                                           'file_size',\n",
      "                                           'creation_date',\n",
      "                                           'last_modified_date',\n",
      "                                           'last_accessed_date'],\n",
      "          'excluded_llm_metadata_keys': ['file_name',\n",
      "                                         'file_type',\n",
      "                                         'file_size',\n",
      "                                         'creation_date',\n",
      "                                         'last_modified_date',\n",
      "                                         'last_accessed_date'],\n",
      "          'id_': '3742cc7d-3b65-4bed-bbdd-1108e8cb9c3f',\n",
      "          'metadata': {'creation_date': '2024-11-07',\n",
      "                       'file_name': 'handbook.pdf',\n",
      "                       'file_path': 'handbook.pdf',\n",
      "                       'file_size': 325352,\n",
      "                       'file_type': 'application/pdf',\n",
      "                       'last_modified_date': '2024-11-07',\n",
      "                       'page_label': '15'},\n",
      "          'metadata_seperator': '\\n',\n",
      "          'metadata_template': '{key}: {value}',\n",
      "          'mimetype': 'text/plain',\n",
      "          'relationships': {<NodeRelationship.SOURCE: '1'>: {'class_name': 'RelatedNodeInfo',\n",
      "                                                             'hash': '358037d7996c62e29453cda30b7ee338b1fff519507f0bf0e2b8864741d0c46d',\n",
      "                                                             'metadata': {'creation_date': '2024-11-07',\n",
      "                                                                          'file_name': 'handbook.pdf',\n",
      "                                                                          'file_path': 'handbook.pdf',\n",
      "                                                                          'file_size': 325352,\n",
      "                                                                          'file_type': 'application/pdf',\n",
      "                                                                          'last_modified_date': '2024-11-07',\n",
      "                                                                          'page_label': '15'},\n",
      "                                                             'node_id': '609777c5-ec46-40e3-a040-d3b4a81e6f57',\n",
      "                                                             'node_type': <ObjectType.DOCUMENT: '4'>},\n",
      "                            <NodeRelationship.NEXT: '3'>: {'class_name': 'RelatedNodeInfo',\n",
      "                                                           'hash': 'd2543b0c59cba271826f4238865331bdaacdf27ec5bba0995213f42eb77abf55',\n",
      "                                                           'metadata': {},\n",
      "                                                           'node_id': 'be6bf611-a799-4f66-8236-16d23ba16882',\n",
      "                                                           'node_type': <ObjectType.TEXT: '1'>}},\n",
      "          'start_char_idx': 0,\n",
      "          'text': 'Software programs purchased and provided by Zania, Inc. are '\n",
      "                  'to be used only for creating, researching, and processing\\n'\n",
      "                  'materials for Company use. By using Company hardware, '\n",
      "                  'software, and networking systems you assume personal\\n'\n",
      "                  'responsibility for their use and agree to comply with this '\n",
      "                  'policy and other applicable Company policies, as well as '\n",
      "                  'city, state,\\n'\n",
      "                  'and federal laws and regulations.\\n'\n",
      "                  'All software acquired for or on behalf of the Company, or '\n",
      "                  'developed by Company employees or contract personnel on '\n",
      "                  'behalf\\n'\n",
      "                  'of the Company, is and will be deemed Company property. It '\n",
      "                  'is the policy of the Company to respect all computer '\n",
      "                  'software\\n'\n",
      "                  'rights and to adhere to the terms of all software licenses '\n",
      "                  'to which the Company is a party. The [[Director of '\n",
      "                  'Information\\n'\n",
      "                  'Systems]] is responsible for enforcing these guidelines.\\n'\n",
      "                  'You may not illegally duplicate any licensed software or '\n",
      "                  'related documentation. Unauthorized duplication of software '\n",
      "                  'may\\n'\n",
      "                  'subject you and/or the Company to both civil and criminal '\n",
      "                  'penalties under the United States Copyright Act. To '\n",
      "                  'purchase\\n'\n",
      "                  \"software, obtain your manager's approval. All software \"\n",
      "                  'acquired by the Company must be purchased through '\n",
      "                  '[[Information\\n'\n",
      "                  'Systems or appropriate department]].\\n'\n",
      "                  'You may not duplicate, copy, or give software to any '\n",
      "                  'outsiders including clients, contractors, customers, and '\n",
      "                  'others. You\\n'\n",
      "                  'may use software on local area networks or on multiple '\n",
      "                  'machines only in accordance with applicable license '\n",
      "                  'agreements\\n'\n",
      "                  'entered into by the Company.\\n'\n",
      "                  '6.2 \\n'\n",
      "                  'Employer Sponsored Social Events\\n'\n",
      "                  'Zania, Inc. holds periodic social events for employees. Be '\n",
      "                  'advised that your attendance at these events is voluntary '\n",
      "                  'and\\n'\n",
      "                  'does not constitute part of your work-related duties. Any '\n",
      "                  'exceptions to this policy must be in writing and signed by '\n",
      "                  'a\\n'\n",
      "                  'Manager prior to the event.\\n'\n",
      "                  'Alcoholic beverages may be available at these events. If '\n",
      "                  'you choose to drink alcoholic beverages, you must do so in '\n",
      "                  'a\\n'\n",
      "                  'responsible manner. Do not drink and drive. Instead, please '\n",
      "                  'call a taxi or appoint a designated driver.\\n'\n",
      "                  '6.3 \\n'\n",
      "                  'Employer-Provided Cell Phones/Mobile Devices\\n'\n",
      "                  'Zania, Inc. may issue certain employees a Company cell '\n",
      "                  'phone/mobile device for work-related communications and/or\\n'\n",
      "                  'operations. If you drive a vehicle during your employment, '\n",
      "                  'you may not use any cell phone/mobile device or other\\n'\n",
      "                  'communication device while driving unless the device is '\n",
      "                  'equipped or configured with a \"hands-free\" '\n",
      "                  'listening/speaking\\n'\n",
      "                  'option, and you in fact utilize the hands-free device.',\n",
      "          'text_template': '{metadata_str}\\n\\n{content}'},\n",
      " 'score': 0.34677117132870994}\n"
     ]
    }
   ],
   "source": [
    "pprint(response.source_nodes[0].to_dict())"
   ]
  },
  {
   "cell_type": "code",
   "execution_count": 67,
   "metadata": {},
   "outputs": [],
   "source": [
    "response2 = qe.query(\"Who is the CEO of the company?\")"
   ]
  },
  {
   "cell_type": "code",
   "execution_count": 68,
   "metadata": {},
   "outputs": [
    {
     "data": {
      "text/plain": [
       "'The CEO of the company is Shruti Gupta.'"
      ]
     },
     "execution_count": 68,
     "metadata": {},
     "output_type": "execute_result"
    }
   ],
   "source": [
    "str(response2)"
   ]
  },
  {
   "cell_type": "code",
   "execution_count": 69,
   "metadata": {},
   "outputs": [
    {
     "name": "stdout",
     "output_type": "stream",
     "text": [
      "Node ID: 071a4c9f-8f5e-4ab9-bfa4-f66417a458e9\n",
      "Text: Closing Statement Thank you for reading our handbook. We hope it\n",
      "has provided you with an understanding of our mission, history, and\n",
      "structure as well as our current policies and guidelines. We look\n",
      "forward to working with you to create a successful Company and a safe,\n",
      "productive, and pleasant workplace. Shruti Gupta, CEO Zania, Inc. 45\n",
      "Score:  0.369\n",
      "\n",
      "Node ID: 20a40c29-c644-4687-81f7-a11dbcbf1d97\n",
      "Text: is on an \"at-will\" basis. This means your employment may be\n",
      "terminated at any time, with or without notice and with or without\n",
      "cause. Likewise, we respect your right to leave the Company at any\n",
      "time, with or without notice and with or without cause.  Nothing in\n",
      "this handbook or any other Company document should be understood as\n",
      "creating a contra...\n",
      "Score:  0.348\n",
      "\n"
     ]
    }
   ],
   "source": [
    "for node in response2.source_nodes:\n",
    "    print(node)"
   ]
  },
  {
   "cell_type": "code",
   "execution_count": 70,
   "metadata": {},
   "outputs": [],
   "source": [
    "response3 = qe.query(\"What is their vacation policy?\")"
   ]
  },
  {
   "cell_type": "code",
   "execution_count": 71,
   "metadata": {},
   "outputs": [
    {
     "data": {
      "text/plain": [
       "\"The vacation policy includes the following key points:\\n\\n1. Vacation is prorated during the first year of employment based on the hire date.\\n2. Eligible employees accrue a specified amount of vacation for every period worked, up to a maximum accrual limit. Once this limit is reached, no additional vacation will accrue until some of the accrued vacation is used.\\n3. Employees can begin using vacation immediately upon hire or after a specified introductory period, depending on the company's policy.\\n4. Requests for vacation should be made in advance, with a minimum notice period required.\\n5. Vacation must be taken in specified increments.\\n6. Unused vacation may be required to be used during certain leaves of absence, as permitted by law.\\n7. There are options for carrying over unused vacation to the following year or for receiving payment for unused time at specified intervals.\\n\\nThe specifics regarding the amount of vacation, accrual periods, and other details would depend on the company's chosen policies.\""
      ]
     },
     "execution_count": 71,
     "metadata": {},
     "output_type": "execute_result"
    }
   ],
   "source": [
    "str(response3)"
   ]
  },
  {
   "cell_type": "code",
   "execution_count": 72,
   "metadata": {},
   "outputs": [
    {
     "name": "stdout",
     "output_type": "stream",
     "text": [
      "Node ID: 2a148360-810f-4f73-945c-b3ad5f90e1be\n",
      "Text: Vacation granted during your first year of employment will be\n",
      "prorated based on your hire date. [[ OR ]] [[ Option 2 :]] All\n",
      "eligible employees will accrue [[# hours/days/weeks]] of vacation for\n",
      "every [[period of time]] worked, up to a maximum accrual of [[#\n",
      "hours/days/weeks]].  Once you reach the maximum accrual amount, you\n",
      "will not accrue any ...\n",
      "Score:  0.541\n",
      "\n",
      "Node ID: e2e0daf5-355e-4136-a102-56d82f8cc26f\n",
      "Text: Deposits Into Your Leave Account Vacation is calculated\n",
      "according to [[your work anniversary year/the calendar year/the fiscal\n",
      "year, which begins on [date] and ends on [date]]].  [[ EMPLOYERS MUST\n",
      "CHOOSE ONE :]] [[ Option 1 :]] The amount of vacation received each\n",
      "year is based on your length of service and [[is granted in a lump sum\n",
      "at the begi...\n",
      "Score:  0.528\n",
      "\n"
     ]
    }
   ],
   "source": [
    "for node in response3.source_nodes:\n",
    "    print(node)"
   ]
  },
  {
   "cell_type": "code",
   "execution_count": 73,
   "metadata": {},
   "outputs": [],
   "source": [
    "response4 = qe.query(\"What is the termination policy?\")"
   ]
  },
  {
   "cell_type": "code",
   "execution_count": 74,
   "metadata": {},
   "outputs": [
    {
     "data": {
      "text/plain": [
       "'The termination policy includes several key points. Involvement in criminal activity, whether on or off Company property, may lead to disciplinary action, including suspension or termination. Employees are expected to be present and ready to work as scheduled; failure to do so may result in disciplinary action, including termination for attendance policy violations or job abandonment. Additionally, violations of company policies or procedures can lead to disciplinary actions such as demotion, transfer, leave without pay, or termination. The company encourages progressive discipline but is not obligated to follow this approach and may terminate employees for conduct violations or inadequate work performance.'"
      ]
     },
     "execution_count": 74,
     "metadata": {},
     "output_type": "execute_result"
    }
   ],
   "source": [
    "str(response4)"
   ]
  },
  {
   "cell_type": "code",
   "execution_count": 75,
   "metadata": {},
   "outputs": [],
   "source": [
    "response5 = qe.query(\"Who are the competitors to this organization?\")"
   ]
  },
  {
   "cell_type": "code",
   "execution_count": 76,
   "metadata": {},
   "outputs": [
    {
     "data": {
      "text/plain": [
       "'The provided information does not include any details about competitors to the organization.'"
      ]
     },
     "execution_count": 76,
     "metadata": {},
     "output_type": "execute_result"
    }
   ],
   "source": [
    "str(response5)"
   ]
  },
  {
   "cell_type": "code",
   "execution_count": 77,
   "metadata": {},
   "outputs": [
    {
     "name": "stdout",
     "output_type": "stream",
     "text": [
      "Node ID: 7aabac05-ef8b-4aee-863f-e9e01a763e43\n",
      "Text: Retaliation and Your Rights Retaliation or any other negative\n",
      "action is prohibited against anyone who, based on a reasonable belief,\n",
      "reports a possible deviation from this policy or cooperates in an\n",
      "investigation. Those who retaliate against others for reporting a\n",
      "possible deviation from this policy or for cooperating in an\n",
      "investigation will be...\n",
      "Score:  0.190\n",
      "\n",
      "Node ID: c4a139e8-47f9-4fdf-b35e-730d6e40b1c7\n",
      "Text: Company may consider your continued employment as long as\n",
      "concerns regarding safety, health, production, communication, or other\n",
      "work-related matters are adequately addressed. The Company may also\n",
      "require you to obtain a medical clearance and agree to random testing\n",
      "and a \"one-strike\" rule as a condition of continued employment.]]\n",
      "Violations Vio...\n",
      "Score:  0.189\n",
      "\n"
     ]
    }
   ],
   "source": [
    "for node in response5.source_nodes:\n",
    "    print(node)"
   ]
  },
  {
   "cell_type": "markdown",
   "metadata": {},
   "source": [
    "### Continue"
   ]
  },
  {
   "cell_type": "code",
   "execution_count": 9,
   "metadata": {},
   "outputs": [],
   "source": [
    "doc_qe_tool = QueryEngineTool(\n",
    "    query_engine=qe,\n",
    "    metadata=ToolMetadata(\n",
    "        name=\"Document Q&A\",\n",
    "        description=\"Provides information about the provided document and answers questions specific to the provided document.\"\n",
    "    )\n",
    ")"
   ]
  },
  {
   "cell_type": "code",
   "execution_count": 10,
   "metadata": {},
   "outputs": [],
   "source": [
    "import nest_asyncio\n",
    "\n",
    "nest_asyncio.apply()"
   ]
  },
  {
   "cell_type": "code",
   "execution_count": 41,
   "metadata": {},
   "outputs": [],
   "source": [
    "from llama_index.core import load_index_from_storage"
   ]
  },
  {
   "cell_type": "code",
   "execution_count": 12,
   "metadata": {},
   "outputs": [],
   "source": [
    "from llama_index.core.agent import StructuredPlannerAgent"
   ]
  },
  {
   "cell_type": "code",
   "execution_count": 13,
   "metadata": {},
   "outputs": [],
   "source": [
    "from typing import Optional, List"
   ]
  },
  {
   "cell_type": "code",
   "execution_count": 14,
   "metadata": {},
   "outputs": [],
   "source": [
    "def vector_query(\n",
    "        query: str\n",
    "    ) -> str:\n",
    "        \"\"\"Use to answer questions over a given document.\n",
    "    \n",
    "        Useful if you have specific questions over the document.\n",
    "    \n",
    "        Args:\n",
    "            query (str): the string query to be embedded.        \n",
    "        \"\"\"\n",
    "           \n",
    "        query_engine = index.as_query_engine(\n",
    "            similarity_top_k=2,\n",
    "        )\n",
    "        response = query_engine.query(query)\n",
    "        return response"
   ]
  },
  {
   "cell_type": "code",
   "execution_count": null,
   "metadata": {},
   "outputs": [],
   "source": []
  },
  {
   "cell_type": "code",
   "execution_count": 154,
   "metadata": {},
   "outputs": [],
   "source": [
    "from typing import Any\n",
    "from llama_index.core.tools import ToolOutput\n",
    "\n",
    "class ControlledFunctionTool(FunctionTool):\n",
    "\n",
    "    def call(self, *args: Any, **kwargs: Any) -> ToolOutput:\n",
    "            \"\"\"Call.\"\"\"\n",
    "            response.sources[0].raw_output.source_nodes\n",
    "            tool_output = self._fn(*args, **kwargs)\n",
    "            content = \"\"\n",
    "            if tool_output.source_nodes:\n",
    "                score = max([node.score for node in tool_output.source_nodes])\n",
    "                if score < 0.2: # The threshould for relavent info in document found or not\n",
    "                    tool_output.response = \"Data Not Available\"\n",
    "            \n",
    "            return ToolOutput(\n",
    "                content=str(tool_output),\n",
    "                tool_name=self.metadata.name,\n",
    "                raw_input={\"args\": args, \"kwargs\": kwargs},\n",
    "                raw_output=tool_output,\n",
    "            )"
   ]
  },
  {
   "cell_type": "code",
   "execution_count": null,
   "metadata": {},
   "outputs": [],
   "source": []
  },
  {
   "cell_type": "code",
   "execution_count": null,
   "metadata": {},
   "outputs": [],
   "source": []
  },
  {
   "cell_type": "code",
   "execution_count": 155,
   "metadata": {},
   "outputs": [],
   "source": [
    "doc_vector_tool = ControlledFunctionTool.from_defaults(\n",
    "    fn=vector_query,\n",
    "    name=\"document_vector_tool\",\n",
    "    description=\"This is the tool to helpful for answering a single question at a time on the provided document.\"\n",
    ")"
   ]
  },
  {
   "cell_type": "code",
   "execution_count": 40,
   "metadata": {},
   "outputs": [],
   "source": [
    "index.storage_context.persist(\"./data/handbook\")"
   ]
  },
  {
   "cell_type": "code",
   "execution_count": 43,
   "metadata": {},
   "outputs": [],
   "source": [
    "from llama_index.core import StorageContext"
   ]
  },
  {
   "cell_type": "code",
   "execution_count": 44,
   "metadata": {},
   "outputs": [],
   "source": [
    "index = load_index_from_storage(\n",
    "        StorageContext.from_defaults(persist_dir=\"./data/handbook\")\n",
    "    )"
   ]
  },
  {
   "cell_type": "code",
   "execution_count": 96,
   "metadata": {},
   "outputs": [],
   "source": [
    "from llama_index.core.llms import ChatMessage"
   ]
  },
  {
   "cell_type": "code",
   "execution_count": 156,
   "metadata": {},
   "outputs": [],
   "source": [
    "prefix_messages = [\n",
    "    ChatMessage(\n",
    "        role=\"system\",\n",
    "        content=(\n",
    "            f\"You are now an agent answering to the questions one by one, only pertaining to the provided indexed document. \"\n",
    "            \"Only answer the questions that the user has explicitly provided. \"\n",
    "            \"The final response should be a json with indivudual questions as keys and the corresponding function output as value. \"\n",
    "            \"Do not make up any details.\"\n",
    "        ),\n",
    "    )\n",
    "]"
   ]
  },
  {
   "cell_type": "code",
   "execution_count": null,
   "metadata": {},
   "outputs": [],
   "source": []
  },
  {
   "cell_type": "code",
   "execution_count": 170,
   "metadata": {},
   "outputs": [],
   "source": [
    "agent_worker = FunctionCallingAgentWorker.from_tools(\n",
    "    [doc_vector_tool],\n",
    "    verbose=True,\n",
    "    prefix_messages=prefix_messages\n",
    ")"
   ]
  },
  {
   "cell_type": "code",
   "execution_count": 171,
   "metadata": {},
   "outputs": [],
   "source": [
    "agent = AgentRunner(agent_worker)"
   ]
  },
  {
   "cell_type": "code",
   "execution_count": 172,
   "metadata": {},
   "outputs": [
    {
     "name": "stdout",
     "output_type": "stream",
     "text": [
      "Added user message to memory: What is the name of the company? \n",
      " Who is the CEO of the company? \n",
      " What is their vacation policy? \n",
      " Who is elon musk?\n",
      "=== Calling Function ===\n",
      "Calling function: document_vector_tool with args: {\"query\": \"name of the company\"}\n",
      "=== Function Output ===\n",
      "Zania, Inc.\n",
      "=== Calling Function ===\n",
      "Calling function: document_vector_tool with args: {\"query\": \"CEO of the company\"}\n",
      "=== Function Output ===\n",
      "Shruti Gupta is the CEO of Zania, Inc.\n",
      "=== Calling Function ===\n",
      "Calling function: document_vector_tool with args: {\"query\": \"vacation policy\"}\n",
      "=== Function Output ===\n",
      "The vacation policy includes the following key points:\n",
      "\n",
      "1. Vacation granted during the first year of employment is prorated based on the hire date.\n",
      "2. Eligible employees accrue vacation based on hours, days, or weeks worked, up to a maximum limit. Once this limit is reached, no additional vacation will accrue until some of the accrued vacation is used.\n",
      "3. Employees can begin using vacation immediately upon hire or after a specified period, and requests should be made in advance, considering business needs.\n",
      "4. Vacation must be taken in specified increments.\n",
      "5. Unused vacation may be carried over to the following year or may be forfeited, depending on the company's policy.\n",
      "6. Upon separation from employment, employees may forfeit or be paid for any earned but unused vacation time, depending on state law.\n",
      "=== Calling Function ===\n",
      "Calling function: document_vector_tool with args: {\"query\": \"who is elon musk\"}\n",
      "=== Function Output ===\n",
      "Data Not Available\n",
      "=== LLM Response ===\n",
      "{\n",
      "  \"name of the company\": \"Zania, Inc.\",\n",
      "  \"CEO of the company\": \"Shruti Gupta is the CEO of Zania, Inc.\",\n",
      "  \"vacation policy\": \"The vacation policy includes the following key points:\\n\\n1. Vacation granted during the first year of employment is prorated based on the hire date.\\n2. Eligible employees accrue vacation based on hours, days, or weeks worked, up to a maximum limit. Once this limit is reached, no additional vacation will accrue until some of the accrued vacation is used.\\n3. Employees can begin using vacation immediately upon hire or after a specified period, and requests should be made in advance, considering business needs.\\n4. Vacation must be taken in specified increments.\\n5. Unused vacation may be carried over to the following year or may be forfeited, depending on the company's policy.\\n6. Upon separation from employment, employees may forfeit or be paid for any earned but unused vacation time, depending on state law.\",\n",
      "  \"who is elon musk\": \"Data Not Available\"\n",
      "}\n"
     ]
    }
   ],
   "source": [
    "resp = agent.query(\"What is the name of the company? \\n Who is the CEO of the company? \\n What is their vacation policy? \\n Who is elon musk?\")"
   ]
  },
  {
   "cell_type": "code",
   "execution_count": null,
   "metadata": {},
   "outputs": [],
   "source": []
  },
  {
   "cell_type": "code",
   "execution_count": null,
   "metadata": {},
   "outputs": [],
   "source": []
  },
  {
   "cell_type": "code",
   "execution_count": 159,
   "metadata": {},
   "outputs": [],
   "source": [
    "task = agent.create_task(\"What is the name of the company? \\n Who is the CEO of the company? \\n What is their vacation policy? \\n Who is elon musk?\")"
   ]
  },
  {
   "cell_type": "code",
   "execution_count": 160,
   "metadata": {},
   "outputs": [
    {
     "data": {
      "text/plain": [
       "'ae04cdc8-eb3b-4a03-b1fb-23193edb8ba9'"
      ]
     },
     "execution_count": 160,
     "metadata": {},
     "output_type": "execute_result"
    }
   ],
   "source": [
    "task.task_id"
   ]
  },
  {
   "cell_type": "code",
   "execution_count": 161,
   "metadata": {},
   "outputs": [
    {
     "data": {
      "text/plain": [
       "1"
      ]
     },
     "execution_count": 161,
     "metadata": {},
     "output_type": "execute_result"
    }
   ],
   "source": [
    "len(agent.get_upcoming_steps(task.task_id))"
   ]
  },
  {
   "cell_type": "code",
   "execution_count": 162,
   "metadata": {},
   "outputs": [
    {
     "name": "stdout",
     "output_type": "stream",
     "text": [
      "Added user message to memory: What is the name of the company? \n",
      " Who is the CEO of the company? \n",
      " What is their vacation policy? \n",
      " Who is elon musk?\n",
      "=== Calling Function ===\n",
      "Calling function: document_vector_tool with args: {\"query\": \"name of the company\"}\n",
      "=== Function Output ===\n",
      "Zania, Inc.\n",
      "=== Calling Function ===\n",
      "Calling function: document_vector_tool with args: {\"query\": \"CEO of the company\"}\n",
      "=== Function Output ===\n",
      "Shruti Gupta is the CEO of Zania, Inc.\n",
      "=== Calling Function ===\n",
      "Calling function: document_vector_tool with args: {\"query\": \"vacation policy\"}\n",
      "=== Function Output ===\n",
      "The vacation policy includes the following key points:\n",
      "\n",
      "1. Vacation granted during the first year of employment is prorated based on the hire date.\n",
      "2. Eligible employees accrue vacation at a specified rate for every period worked, up to a maximum amount. Once this maximum is reached, no additional vacation will accrue until some of the accrued vacation is used.\n",
      "3. Employees can begin using vacation immediately upon hire or after a specified period, and requests for vacation should be made in advance.\n",
      "4. Vacation must be taken in increments of at least a specified number of hours or days.\n",
      "5. Unused vacation may be carried over to the following year, or the company may offer payment for unused vacation at a designated time.\n",
      "6. Upon separation from employment, employees may forfeit any earned but unused vacation unless state law provides otherwise.\n",
      "=== Calling Function ===\n",
      "Calling function: document_vector_tool with args: {\"query\": \"Who is elon musk\"}\n",
      "=== Function Output ===\n",
      "Data Not Available\n"
     ]
    }
   ],
   "source": [
    "step_output = agent.run_step(task.task_id)"
   ]
  },
  {
   "cell_type": "code",
   "execution_count": 163,
   "metadata": {},
   "outputs": [
    {
     "data": {
      "text/plain": [
       "[ToolOutput(content='Zania, Inc.', tool_name='document_vector_tool', raw_input={'args': ('name of the company',), 'kwargs': {}}, raw_output=Response(response='Zania, Inc.', source_nodes=[NodeWithScore(node=TextNode(id_='a0a0a99b-db00-4043-9660-f0f5c5b00cfe', embedding=None, metadata={'page_label': '15', 'file_name': 'handbook.pdf', 'file_path': 'handbook.pdf', 'file_type': 'application/pdf', 'file_size': 325352, 'creation_date': '2024-11-07', 'last_modified_date': '2024-11-07'}, excluded_embed_metadata_keys=['file_name', 'file_type', 'file_size', 'creation_date', 'last_modified_date', 'last_accessed_date'], excluded_llm_metadata_keys=['file_name', 'file_type', 'file_size', 'creation_date', 'last_modified_date', 'last_accessed_date'], relationships={<NodeRelationship.SOURCE: '1'>: RelatedNodeInfo(node_id='ff06e053-7b6e-4e15-ad06-8a98f10415d6', node_type=<ObjectType.DOCUMENT: '4'>, metadata={'page_label': '15', 'file_name': 'handbook.pdf', 'file_path': 'handbook.pdf', 'file_type': 'application/pdf', 'file_size': 325352, 'creation_date': '2024-11-07', 'last_modified_date': '2024-11-07'}, hash='358037d7996c62e29453cda30b7ee338b1fff519507f0bf0e2b8864741d0c46d'), <NodeRelationship.NEXT: '3'>: RelatedNodeInfo(node_id='1376b096-21ec-431a-aafd-9973b8811c8b', node_type=<ObjectType.TEXT: '1'>, metadata={}, hash='d2543b0c59cba271826f4238865331bdaacdf27ec5bba0995213f42eb77abf55')}, text='Software programs purchased and provided by Zania, Inc. are to be used only for creating, researching, and processing\\nmaterials for Company use. By using Company hardware, software, and networking systems you assume personal\\nresponsibility for their use and agree to comply with this policy and other applicable Company policies, as well as city, state,\\nand federal laws and regulations.\\nAll software acquired for or on behalf of the Company, or developed by Company employees or contract personnel on behalf\\nof the Company, is and will be deemed Company property. It is the policy of the Company to respect all computer software\\nrights and to adhere to the terms of all software licenses to which the Company is a party. The [[Director of Information\\nSystems]] is responsible for enforcing these guidelines.\\nYou may not illegally duplicate any licensed software or related documentation. Unauthorized duplication of software may\\nsubject you and/or the Company to both civil and criminal penalties under the United States Copyright Act. To purchase\\nsoftware, obtain your manager\\'s approval. All software acquired by the Company must be purchased through [[Information\\nSystems or appropriate department]].\\nYou may not duplicate, copy, or give software to any outsiders including clients, contractors, customers, and others. You\\nmay use software on local area networks or on multiple machines only in accordance with applicable license agreements\\nentered into by the Company.\\n6.2 \\nEmployer Sponsored Social Events\\nZania, Inc. holds periodic social events for employees. Be advised that your attendance at these events is voluntary and\\ndoes not constitute part of your work-related duties. Any exceptions to this policy must be in writing and signed by a\\nManager prior to the event.\\nAlcoholic beverages may be available at these events. If you choose to drink alcoholic beverages, you must do so in a\\nresponsible manner. Do not drink and drive. Instead, please call a taxi or appoint a designated driver.\\n6.3 \\nEmployer-Provided Cell Phones/Mobile Devices\\nZania, Inc. may issue certain employees a Company cell phone/mobile device for work-related communications and/or\\noperations. If you drive a vehicle during your employment, you may not use any cell phone/mobile device or other\\ncommunication device while driving unless the device is equipped or configured with a \"hands-free\" listening/speaking\\noption, and you in fact utilize the hands-free device.', mimetype='text/plain', start_char_idx=0, end_char_idx=2451, text_template='{metadata_str}\\n\\n{content}', metadata_template='{key}: {value}', metadata_seperator='\\n'), score=0.3797657790415764), NodeWithScore(node=TextNode(id_='26b52e78-65ce-4054-a326-1b8c935f783f', embedding=None, metadata={'page_label': '13', 'file_name': 'handbook.pdf', 'file_path': 'handbook.pdf', 'file_type': 'application/pdf', 'file_size': 325352, 'creation_date': '2024-11-07', 'last_modified_date': '2024-11-07'}, excluded_embed_metadata_keys=['file_name', 'file_type', 'file_size', 'creation_date', 'last_modified_date', 'last_accessed_date'], excluded_llm_metadata_keys=['file_name', 'file_type', 'file_size', 'creation_date', 'last_modified_date', 'last_accessed_date'], relationships={<NodeRelationship.SOURCE: '1'>: RelatedNodeInfo(node_id='3de8b417-1aa4-483e-9766-0de9a3afc398', node_type=<ObjectType.DOCUMENT: '4'>, metadata={'page_label': '13', 'file_name': 'handbook.pdf', 'file_path': 'handbook.pdf', 'file_type': 'application/pdf', 'file_size': 325352, 'creation_date': '2024-11-07', 'last_modified_date': '2024-11-07'}, hash='559770aec6c64e700590e99485f07f5acd8d4411e10666a8f9dd20f62d81eac7'), <NodeRelationship.PREVIOUS: '2'>: RelatedNodeInfo(node_id='768f4361-5349-402e-8399-ae48ead5be84', node_type=<ObjectType.TEXT: '1'>, metadata={'page_label': '13', 'file_name': 'handbook.pdf', 'file_path': 'handbook.pdf', 'file_type': 'application/pdf', 'file_size': 325352, 'creation_date': '2024-11-07', 'last_modified_date': '2024-11-07'}, hash='d96eaeca8926c65335f85e2298da6299bf448cfaba1f20079b1f627b50cf5f84')}, text='The Company reserves the right to provide you with pay in lieu of notice in situations where job or business needs warrant.\\nFinal Pay\\nThe Company will pay separated employees in accordance with applicable laws and other sections of this handbook. \\nNotify the Company if your address changes during the calendar year in which resignation occurs to ensure tax information\\nis sent to the correct address.\\nReturn of Property\\nReturn all Company property at the time of separation, including [[list items to be returned, such as uniforms, cellphones,\\nkeys, tools, laptops, credit cards, and identification cards]]. Failure to return some items may result in deductions from your\\nfinal paycheck where state law allows. [[In some circumstances, the Company may pursue criminal charges for failure to\\nreturn Company property.]]\\n5.11 \\nStandards of Conduct\\nZania, Inc. wishes to create a work environment that promotes job satisfaction, respect, responsibility, integrity, and value for\\nall our employees, clients, customers, and other stakeholders. We all share in the responsibility of improving the quality of\\n13', mimetype='text/plain', start_char_idx=2164, end_char_idx=3268, text_template='{metadata_str}\\n\\n{content}', metadata_template='{key}: {value}', metadata_seperator='\\n'), score=0.3681172296149041)], metadata={'a0a0a99b-db00-4043-9660-f0f5c5b00cfe': {'page_label': '15', 'file_name': 'handbook.pdf', 'file_path': 'handbook.pdf', 'file_type': 'application/pdf', 'file_size': 325352, 'creation_date': '2024-11-07', 'last_modified_date': '2024-11-07'}, '26b52e78-65ce-4054-a326-1b8c935f783f': {'page_label': '13', 'file_name': 'handbook.pdf', 'file_path': 'handbook.pdf', 'file_type': 'application/pdf', 'file_size': 325352, 'creation_date': '2024-11-07', 'last_modified_date': '2024-11-07'}}), is_error=False),\n",
       " ToolOutput(content='Shruti Gupta is the CEO of Zania, Inc.', tool_name='document_vector_tool', raw_input={'args': ('CEO of the company',), 'kwargs': {}}, raw_output=Response(response='Shruti Gupta is the CEO of Zania, Inc.', source_nodes=[NodeWithScore(node=TextNode(id_='07ac48e0-2567-419f-978f-d234cdc2474e', embedding=None, metadata={'page_label': '45', 'file_name': 'handbook.pdf', 'file_path': 'handbook.pdf', 'file_type': 'application/pdf', 'file_size': 325352, 'creation_date': '2024-11-07', 'last_modified_date': '2024-11-07'}, excluded_embed_metadata_keys=['file_name', 'file_type', 'file_size', 'creation_date', 'last_modified_date', 'last_accessed_date'], excluded_llm_metadata_keys=['file_name', 'file_type', 'file_size', 'creation_date', 'last_modified_date', 'last_accessed_date'], relationships={<NodeRelationship.SOURCE: '1'>: RelatedNodeInfo(node_id='ca84aa6f-4bb9-4a1a-8687-59ad08dd8e17', node_type=<ObjectType.DOCUMENT: '4'>, metadata={'page_label': '45', 'file_name': 'handbook.pdf', 'file_path': 'handbook.pdf', 'file_type': 'application/pdf', 'file_size': 325352, 'creation_date': '2024-11-07', 'last_modified_date': '2024-11-07'}, hash='a0d672d419a755944866939c18c6972de2fa6ef104de934e2afdc4496686bca4')}, text='Closing Statement\\nThank you for reading our handbook. We hope it has provided you with an understanding of our mission, history, and\\nstructure as well as our current policies and guidelines. We look forward to working with you to create a successful\\nCompany and a safe, productive, and pleasant workplace.\\nShruti Gupta, CEO\\nZania, Inc.\\n45', mimetype='text/plain', start_char_idx=0, end_char_idx=338, text_template='{metadata_str}\\n\\n{content}', metadata_template='{key}: {value}', metadata_seperator='\\n'), score=0.3888713601600561), NodeWithScore(node=TextNode(id_='5594d4dd-56ba-45eb-ad71-f70c5f7ebfde', embedding=None, metadata={'page_label': '11', 'file_name': 'handbook.pdf', 'file_path': 'handbook.pdf', 'file_type': 'application/pdf', 'file_size': 325352, 'creation_date': '2024-11-07', 'last_modified_date': '2024-11-07'}, excluded_embed_metadata_keys=['file_name', 'file_type', 'file_size', 'creation_date', 'last_modified_date', 'last_accessed_date'], excluded_llm_metadata_keys=['file_name', 'file_type', 'file_size', 'creation_date', 'last_modified_date', 'last_accessed_date'], relationships={<NodeRelationship.SOURCE: '1'>: RelatedNodeInfo(node_id='422962dd-4899-4ff4-9901-58aad2dd3e80', node_type=<ObjectType.DOCUMENT: '4'>, metadata={'page_label': '11', 'file_name': 'handbook.pdf', 'file_path': 'handbook.pdf', 'file_type': 'application/pdf', 'file_size': 325352, 'creation_date': '2024-11-07', 'last_modified_date': '2024-11-07'}, hash='bdc905474e501bd9f7bb18fb331820a575a00425cfd25d14e04046123c2097eb'), <NodeRelationship.NEXT: '3'>: RelatedNodeInfo(node_id='1e198ea8-5fe1-456b-911b-4b221d5cc2c7', node_type=<ObjectType.TEXT: '1'>, metadata={}, hash='c1bc6a4c07c20e03b54b94064da2f4b933fef43dc238b6cbd6f5d38c410750c2')}, text=\"You are to use rental firms having existing relationships with the Company and, where feasible, have negotiated discount\\nrates. Available reasonable transportation is to be used.\\nPersonal Vehicles\\nWhen using your own vehicle for business purposes, you must maintain insurance coverage as required by law and may not\\nhave more than [[2 points]] on your driving record. Travel between your home and primary office is not considered to be\\nbusiness travel. You may not use your personal vehicle for business travel without authorization. Every attempt should be\\nmade to utilize the use of courier and delivery services in order to avoid hazard of liability and the time away from work. You\\nwill be reimbursed for vehicle use at the standard IRS mileage rate. The [[President or Chief Executive Officer]] must\\nauthorize any deviation from this policy.\\nReporting\\nReport approved expenses and include a description of the expense, its business purpose, date, place, and the participants.\\nTravel Reservations\\nAirline travel, rental cars, and hotels must be booked through the corporate designated travel agency in order to be\\nreimbursed.\\n4.10 \\nUse of Employer Credit Cards\\nAll employees in the possession of a credit card issued by Zania, Inc. will adhere to the strictest guidelines of responsibility\\nfor the protection and proper use of that card. Credit card purchases related to Company vehicle use (gas, oil, etc.) under\\n$100 do not require prior approval. Credit card purchases for vehicle use over $100 and any other business purchases over\\n$25 must receive prior approval from your Manager.\\nSubmit all sales receipts generated by use of the Company credit card [[weekly/monthly]] to your Manager [[or appropriate\\ndepartment]]. Your Company credit card may not be used for personal reasons. Use of the Company credit card is restricted\\nto approved business related expenses.\\nAny unauthorized purchases made with a credit card issued by the Company will be the cardholder's responsibility. You\\nmust reimburse any such purchase to the Company within [[#]] days.\\nImmediately report lost or stolen Company cards to your Manager. Failure to follow this policy may result in disciplinary\\naction up to and including discharge.\\n5.0 \\nPerformance, Discipline, Layoff, and Termination\\n5.1 \\nCriminal Activity/Arrests\\nZania, Inc. will report all criminal activity in accordance with applicable law.\", mimetype='text/plain', start_char_idx=0, end_char_idx=2384, text_template='{metadata_str}\\n\\n{content}', metadata_template='{key}: {value}', metadata_seperator='\\n'), score=0.34834007810138007)], metadata={'07ac48e0-2567-419f-978f-d234cdc2474e': {'page_label': '45', 'file_name': 'handbook.pdf', 'file_path': 'handbook.pdf', 'file_type': 'application/pdf', 'file_size': 325352, 'creation_date': '2024-11-07', 'last_modified_date': '2024-11-07'}, '5594d4dd-56ba-45eb-ad71-f70c5f7ebfde': {'page_label': '11', 'file_name': 'handbook.pdf', 'file_path': 'handbook.pdf', 'file_type': 'application/pdf', 'file_size': 325352, 'creation_date': '2024-11-07', 'last_modified_date': '2024-11-07'}}), is_error=False),\n",
       " ToolOutput(content='The vacation policy includes the following key points:\\n\\n1. Vacation granted during the first year of employment is prorated based on the hire date.\\n2. Eligible employees accrue vacation at a specified rate for every period worked, up to a maximum amount. Once this maximum is reached, no additional vacation will accrue until some of the accrued vacation is used.\\n3. Employees can begin using vacation immediately upon hire or after a specified period, and requests for vacation should be made in advance.\\n4. Vacation must be taken in increments of at least a specified number of hours or days.\\n5. Unused vacation may be carried over to the following year, or the company may offer payment for unused vacation at a designated time.\\n6. Upon separation from employment, employees may forfeit any earned but unused vacation unless state law provides otherwise.', tool_name='document_vector_tool', raw_input={'args': ('vacation policy',), 'kwargs': {}}, raw_output=Response(response='The vacation policy includes the following key points:\\n\\n1. Vacation granted during the first year of employment is prorated based on the hire date.\\n2. Eligible employees accrue vacation at a specified rate for every period worked, up to a maximum amount. Once this maximum is reached, no additional vacation will accrue until some of the accrued vacation is used.\\n3. Employees can begin using vacation immediately upon hire or after a specified period, and requests for vacation should be made in advance.\\n4. Vacation must be taken in increments of at least a specified number of hours or days.\\n5. Unused vacation may be carried over to the following year, or the company may offer payment for unused vacation at a designated time.\\n6. Upon separation from employment, employees may forfeit any earned but unused vacation unless state law provides otherwise.', source_nodes=[NodeWithScore(node=TextNode(id_='633ce12b-b444-40af-82b4-946eb7b3aed1', embedding=None, metadata={'page_label': '25', 'file_name': 'handbook.pdf', 'file_path': 'handbook.pdf', 'file_type': 'application/pdf', 'file_size': 325352, 'creation_date': '2024-11-07', 'last_modified_date': '2024-11-07'}, excluded_embed_metadata_keys=['file_name', 'file_type', 'file_size', 'creation_date', 'last_modified_date', 'last_accessed_date'], excluded_llm_metadata_keys=['file_name', 'file_type', 'file_size', 'creation_date', 'last_modified_date', 'last_accessed_date'], relationships={<NodeRelationship.SOURCE: '1'>: RelatedNodeInfo(node_id='baaec87d-4ac1-4fd5-bc48-4f57c789a3c6', node_type=<ObjectType.DOCUMENT: '4'>, metadata={'page_label': '25', 'file_name': 'handbook.pdf', 'file_path': 'handbook.pdf', 'file_type': 'application/pdf', 'file_size': 325352, 'creation_date': '2024-11-07', 'last_modified_date': '2024-11-07'}, hash='d63caa6c45dd6f35f76a3c0fe143a1abd8ec5f2dbfd0b7c7d6bf5a147c80c43d'), <NodeRelationship.NEXT: '3'>: RelatedNodeInfo(node_id='5159b645-99a3-4953-a7f7-7821ffe085b3', node_type=<ObjectType.TEXT: '1'>, metadata={}, hash='8a23903ef9f939c6317ab7113f5fa0307a6cced383c9fb7e7212408973437727')}, text='Vacation granted during your first year of employment will be prorated based on your hire date.\\n[[\\nOR\\n]]\\n[[\\nOption 2\\n:]]\\nAll eligible employees will accrue [[# hours/days/weeks]] of vacation for every [[period of time]] worked, up to a maximum\\naccrual of [[# hours/days/weeks]]. \\nOnce you reach the maximum accrual amount, you will not accrue any additional vacation until you use some of the accrued\\nbut unused vacation and the amount falls below the maximum accrual amount. You will not receive retroactive credit for any\\nperiod of time in which you did not accrue vacation because you accrued the maximum amount.\\nLeave Usage and Requests for Leave\\nThe Company encourages you to use your vacation time. You are eligible to begin using vacation [[immediately upon\\nhire/upon completion of your introductory period/as soon as it is received /after # days of employment]].\\nYou must request vacation from your Manager as far in advance as possible, but at least [[# days/weeks]] in advance. The\\nCompany will generally grant requests for vacation when possible, taking business needs into consideration. When multiple\\nemployees request the same time off, their [[length of employment/seniority/collective-bargaining agreement]] may\\ndetermine priority in scheduling vacation times.\\nYou must take vacation in increments of at least [[# of hours/days]].\\nDuring a Leave of Absence\\nThe Company may require you to use any unused vacation during disability or family medical leave, or any other leave of\\nabsence, where permissible under local, state, and federal law.\\n[[\\nEMPLOYERS WHO USE AN ACCRUAL METHOD MUST ADD THE FOLLOWING LANGUAGE:\\n You will not accrue\\nvacation during unpaid leaves of absence, or other periods of inactive service, unless vacation accrual is required by\\napplicable federal, state, or local law.]]\\nCarryover\\n[[\\nEMPLOYERS MUST CHOOSE ONE:\\n]]\\n[[Unused vacation can be carried over to the following year [\\nYou may want to explain conditions for carryover:\\n e.g., on\\nor about your anniversary date/at the beginning of the following [calendar/fiscal] year].]] [[The Company may elect to offer\\npayment for the unused time [on or about your anniversary date/at the beginning of the following [calendar/fiscal] year].]]', mimetype='text/plain', start_char_idx=0, end_char_idx=2225, text_template='{metadata_str}\\n\\n{content}', metadata_template='{key}: {value}', metadata_seperator='\\n'), score=0.5945695020116267), NodeWithScore(node=TextNode(id_='5159b645-99a3-4953-a7f7-7821ffe085b3', embedding=None, metadata={'page_label': '25', 'file_name': 'handbook.pdf', 'file_path': 'handbook.pdf', 'file_type': 'application/pdf', 'file_size': 325352, 'creation_date': '2024-11-07', 'last_modified_date': '2024-11-07'}, excluded_embed_metadata_keys=['file_name', 'file_type', 'file_size', 'creation_date', 'last_modified_date', 'last_accessed_date'], excluded_llm_metadata_keys=['file_name', 'file_type', 'file_size', 'creation_date', 'last_modified_date', 'last_accessed_date'], relationships={<NodeRelationship.SOURCE: '1'>: RelatedNodeInfo(node_id='baaec87d-4ac1-4fd5-bc48-4f57c789a3c6', node_type=<ObjectType.DOCUMENT: '4'>, metadata={'page_label': '25', 'file_name': 'handbook.pdf', 'file_path': 'handbook.pdf', 'file_type': 'application/pdf', 'file_size': 325352, 'creation_date': '2024-11-07', 'last_modified_date': '2024-11-07'}, hash='d63caa6c45dd6f35f76a3c0fe143a1abd8ec5f2dbfd0b7c7d6bf5a147c80c43d'), <NodeRelationship.PREVIOUS: '2'>: RelatedNodeInfo(node_id='633ce12b-b444-40af-82b4-946eb7b3aed1', node_type=<ObjectType.TEXT: '1'>, metadata={'page_label': '25', 'file_name': 'handbook.pdf', 'file_path': 'handbook.pdf', 'file_type': 'application/pdf', 'file_size': 325352, 'creation_date': '2024-11-07', 'last_modified_date': '2024-11-07'}, hash='631eb350d9282a6b9a502aeb5e0da370c1fe08048dbe9ba9ad26593a962fd5bd')}, text='[[The Company may elect to offer\\npayment for the unused time [on or about your anniversary date/at the beginning of the following [calendar/fiscal] year].]]\\n[[\\nOR\\n]]\\n[[\\nOPTIONAL LANGUAGE FOR ALL STATES EXCEPT CALIFORNIA, COLORADO, MONTANA, AND NEBRASKA. DO\\nNOT USE THIS LANGUAGE FOR CALIFORNIA, COLORADO, MONTANA, OR NEBRASKA HANDBOOKS.\\n]]\\n[[You may not carry over unused vacation to the following year. Any unused vacation will be forfeited [on or about your\\nanniversary date/at the end of the [calendar/fiscal] year].]]\\nSeparation of Employment\\nUpon separation of employment for any reason, you will [[forfeit any earned but unused [vacation time] unless state law\\ndictates otherwise/will be paid for earned but unused [vacation time].]]\\n25', mimetype='text/plain', start_char_idx=2069, end_char_idx=2811, text_template='{metadata_str}\\n\\n{content}', metadata_template='{key}: {value}', metadata_seperator='\\n'), score=0.569676159572128)], metadata={'633ce12b-b444-40af-82b4-946eb7b3aed1': {'page_label': '25', 'file_name': 'handbook.pdf', 'file_path': 'handbook.pdf', 'file_type': 'application/pdf', 'file_size': 325352, 'creation_date': '2024-11-07', 'last_modified_date': '2024-11-07'}, '5159b645-99a3-4953-a7f7-7821ffe085b3': {'page_label': '25', 'file_name': 'handbook.pdf', 'file_path': 'handbook.pdf', 'file_type': 'application/pdf', 'file_size': 325352, 'creation_date': '2024-11-07', 'last_modified_date': '2024-11-07'}}), is_error=False),\n",
       " ToolOutput(content='Data Not Available', tool_name='document_vector_tool', raw_input={'args': ('Who is elon musk',), 'kwargs': {}}, raw_output=Response(response='Data Not Available', source_nodes=[NodeWithScore(node=TextNode(id_='bf73cf73-5e9c-42f1-8762-1e5f6b84ddd2', embedding=None, metadata={'page_label': '18', 'file_name': 'handbook.pdf', 'file_path': 'handbook.pdf', 'file_type': 'application/pdf', 'file_size': 325352, 'creation_date': '2024-11-07', 'last_modified_date': '2024-11-07'}, excluded_embed_metadata_keys=['file_name', 'file_type', 'file_size', 'creation_date', 'last_modified_date', 'last_accessed_date'], excluded_llm_metadata_keys=['file_name', 'file_type', 'file_size', 'creation_date', 'last_modified_date', 'last_accessed_date'], relationships={<NodeRelationship.SOURCE: '1'>: RelatedNodeInfo(node_id='38beb029-a70d-420b-a68f-f7d43ffe524d', node_type=<ObjectType.DOCUMENT: '4'>, metadata={'page_label': '18', 'file_name': 'handbook.pdf', 'file_path': 'handbook.pdf', 'file_type': 'application/pdf', 'file_size': 325352, 'creation_date': '2024-11-07', 'last_modified_date': '2024-11-07'}, hash='b884d584116e2b83b09dd1163374552534805255af54dea8d3ba5b18854465d6'), <NodeRelationship.PREVIOUS: '2'>: RelatedNodeInfo(node_id='32cd1c6a-86ea-4fcb-a2a3-afc00561351f', node_type=<ObjectType.TEXT: '1'>, metadata={'page_label': '18', 'file_name': 'handbook.pdf', 'file_path': 'handbook.pdf', 'file_type': 'application/pdf', 'file_size': 325352, 'creation_date': '2024-11-07', 'last_modified_date': '2024-11-07'}, hash='05330d2443f31156a89e04b09149f4622ea7d82d71d1a5c80567c031d2601163')}, text='financial or sales records/reports, marketing or business strategies/plans, product development, customer lists,\\npatents, trademarks, etc.) related to the Company.\\nDo not create a link from your personal blog, website, or other social networking site to a Company website that\\nidentifies you as speaking on behalf of the Company.\\nNever represent yourself as a spokesperson for the Company. If the Company is a subject of the content you are\\ncreating, do not represent yourself as speaking on behalf of the Company. Make it clear in your social media activity\\nthat you are speaking on your own behalf.\\nRespect copyright, trademark, third-party rights, and similar laws and use such protected information in compliance\\nwith applicable legal standards.\\nUsing Social Media at Work\\nDo not use social media while on your work time, unless it is work related as authorized by your manager or consistent with\\npolicies that cover equipment owned by the Company.\\nMedia Contacts\\nIf you are not authorized to speak on behalf of the Company, do not speak to the media on behalf of the Company. Direct all\\nmedia inquiries for official Company responses to Human Resources.\\n18', mimetype='text/plain', start_char_idx=2290, end_char_idx=3451, text_template='{metadata_str}\\n\\n{content}', metadata_template='{key}: {value}', metadata_seperator='\\n'), score=0.17490925723994194), NodeWithScore(node=TextNode(id_='07ac48e0-2567-419f-978f-d234cdc2474e', embedding=None, metadata={'page_label': '45', 'file_name': 'handbook.pdf', 'file_path': 'handbook.pdf', 'file_type': 'application/pdf', 'file_size': 325352, 'creation_date': '2024-11-07', 'last_modified_date': '2024-11-07'}, excluded_embed_metadata_keys=['file_name', 'file_type', 'file_size', 'creation_date', 'last_modified_date', 'last_accessed_date'], excluded_llm_metadata_keys=['file_name', 'file_type', 'file_size', 'creation_date', 'last_modified_date', 'last_accessed_date'], relationships={<NodeRelationship.SOURCE: '1'>: RelatedNodeInfo(node_id='ca84aa6f-4bb9-4a1a-8687-59ad08dd8e17', node_type=<ObjectType.DOCUMENT: '4'>, metadata={'page_label': '45', 'file_name': 'handbook.pdf', 'file_path': 'handbook.pdf', 'file_type': 'application/pdf', 'file_size': 325352, 'creation_date': '2024-11-07', 'last_modified_date': '2024-11-07'}, hash='a0d672d419a755944866939c18c6972de2fa6ef104de934e2afdc4496686bca4')}, text='Closing Statement\\nThank you for reading our handbook. We hope it has provided you with an understanding of our mission, history, and\\nstructure as well as our current policies and guidelines. We look forward to working with you to create a successful\\nCompany and a safe, productive, and pleasant workplace.\\nShruti Gupta, CEO\\nZania, Inc.\\n45', mimetype='text/plain', start_char_idx=0, end_char_idx=338, text_template='{metadata_str}\\n\\n{content}', metadata_template='{key}: {value}', metadata_seperator='\\n'), score=0.13902776336080552)], metadata={'bf73cf73-5e9c-42f1-8762-1e5f6b84ddd2': {'page_label': '18', 'file_name': 'handbook.pdf', 'file_path': 'handbook.pdf', 'file_type': 'application/pdf', 'file_size': 325352, 'creation_date': '2024-11-07', 'last_modified_date': '2024-11-07'}, '07ac48e0-2567-419f-978f-d234cdc2474e': {'page_label': '45', 'file_name': 'handbook.pdf', 'file_path': 'handbook.pdf', 'file_type': 'application/pdf', 'file_size': 325352, 'creation_date': '2024-11-07', 'last_modified_date': '2024-11-07'}}), is_error=False)]"
      ]
     },
     "execution_count": 163,
     "metadata": {},
     "output_type": "execute_result"
    }
   ],
   "source": [
    "step_output.output.sources"
   ]
  },
  {
   "cell_type": "code",
   "execution_count": 164,
   "metadata": {},
   "outputs": [
    {
     "data": {
      "text/plain": [
       "[NodeWithScore(node=TextNode(id_='a0a0a99b-db00-4043-9660-f0f5c5b00cfe', embedding=None, metadata={'page_label': '15', 'file_name': 'handbook.pdf', 'file_path': 'handbook.pdf', 'file_type': 'application/pdf', 'file_size': 325352, 'creation_date': '2024-11-07', 'last_modified_date': '2024-11-07'}, excluded_embed_metadata_keys=['file_name', 'file_type', 'file_size', 'creation_date', 'last_modified_date', 'last_accessed_date'], excluded_llm_metadata_keys=['file_name', 'file_type', 'file_size', 'creation_date', 'last_modified_date', 'last_accessed_date'], relationships={<NodeRelationship.SOURCE: '1'>: RelatedNodeInfo(node_id='ff06e053-7b6e-4e15-ad06-8a98f10415d6', node_type=<ObjectType.DOCUMENT: '4'>, metadata={'page_label': '15', 'file_name': 'handbook.pdf', 'file_path': 'handbook.pdf', 'file_type': 'application/pdf', 'file_size': 325352, 'creation_date': '2024-11-07', 'last_modified_date': '2024-11-07'}, hash='358037d7996c62e29453cda30b7ee338b1fff519507f0bf0e2b8864741d0c46d'), <NodeRelationship.NEXT: '3'>: RelatedNodeInfo(node_id='1376b096-21ec-431a-aafd-9973b8811c8b', node_type=<ObjectType.TEXT: '1'>, metadata={}, hash='d2543b0c59cba271826f4238865331bdaacdf27ec5bba0995213f42eb77abf55')}, text='Software programs purchased and provided by Zania, Inc. are to be used only for creating, researching, and processing\\nmaterials for Company use. By using Company hardware, software, and networking systems you assume personal\\nresponsibility for their use and agree to comply with this policy and other applicable Company policies, as well as city, state,\\nand federal laws and regulations.\\nAll software acquired for or on behalf of the Company, or developed by Company employees or contract personnel on behalf\\nof the Company, is and will be deemed Company property. It is the policy of the Company to respect all computer software\\nrights and to adhere to the terms of all software licenses to which the Company is a party. The [[Director of Information\\nSystems]] is responsible for enforcing these guidelines.\\nYou may not illegally duplicate any licensed software or related documentation. Unauthorized duplication of software may\\nsubject you and/or the Company to both civil and criminal penalties under the United States Copyright Act. To purchase\\nsoftware, obtain your manager\\'s approval. All software acquired by the Company must be purchased through [[Information\\nSystems or appropriate department]].\\nYou may not duplicate, copy, or give software to any outsiders including clients, contractors, customers, and others. You\\nmay use software on local area networks or on multiple machines only in accordance with applicable license agreements\\nentered into by the Company.\\n6.2 \\nEmployer Sponsored Social Events\\nZania, Inc. holds periodic social events for employees. Be advised that your attendance at these events is voluntary and\\ndoes not constitute part of your work-related duties. Any exceptions to this policy must be in writing and signed by a\\nManager prior to the event.\\nAlcoholic beverages may be available at these events. If you choose to drink alcoholic beverages, you must do so in a\\nresponsible manner. Do not drink and drive. Instead, please call a taxi or appoint a designated driver.\\n6.3 \\nEmployer-Provided Cell Phones/Mobile Devices\\nZania, Inc. may issue certain employees a Company cell phone/mobile device for work-related communications and/or\\noperations. If you drive a vehicle during your employment, you may not use any cell phone/mobile device or other\\ncommunication device while driving unless the device is equipped or configured with a \"hands-free\" listening/speaking\\noption, and you in fact utilize the hands-free device.', mimetype='text/plain', start_char_idx=0, end_char_idx=2451, text_template='{metadata_str}\\n\\n{content}', metadata_template='{key}: {value}', metadata_seperator='\\n'), score=0.3797657790415764),\n",
       " NodeWithScore(node=TextNode(id_='26b52e78-65ce-4054-a326-1b8c935f783f', embedding=None, metadata={'page_label': '13', 'file_name': 'handbook.pdf', 'file_path': 'handbook.pdf', 'file_type': 'application/pdf', 'file_size': 325352, 'creation_date': '2024-11-07', 'last_modified_date': '2024-11-07'}, excluded_embed_metadata_keys=['file_name', 'file_type', 'file_size', 'creation_date', 'last_modified_date', 'last_accessed_date'], excluded_llm_metadata_keys=['file_name', 'file_type', 'file_size', 'creation_date', 'last_modified_date', 'last_accessed_date'], relationships={<NodeRelationship.SOURCE: '1'>: RelatedNodeInfo(node_id='3de8b417-1aa4-483e-9766-0de9a3afc398', node_type=<ObjectType.DOCUMENT: '4'>, metadata={'page_label': '13', 'file_name': 'handbook.pdf', 'file_path': 'handbook.pdf', 'file_type': 'application/pdf', 'file_size': 325352, 'creation_date': '2024-11-07', 'last_modified_date': '2024-11-07'}, hash='559770aec6c64e700590e99485f07f5acd8d4411e10666a8f9dd20f62d81eac7'), <NodeRelationship.PREVIOUS: '2'>: RelatedNodeInfo(node_id='768f4361-5349-402e-8399-ae48ead5be84', node_type=<ObjectType.TEXT: '1'>, metadata={'page_label': '13', 'file_name': 'handbook.pdf', 'file_path': 'handbook.pdf', 'file_type': 'application/pdf', 'file_size': 325352, 'creation_date': '2024-11-07', 'last_modified_date': '2024-11-07'}, hash='d96eaeca8926c65335f85e2298da6299bf448cfaba1f20079b1f627b50cf5f84')}, text='The Company reserves the right to provide you with pay in lieu of notice in situations where job or business needs warrant.\\nFinal Pay\\nThe Company will pay separated employees in accordance with applicable laws and other sections of this handbook. \\nNotify the Company if your address changes during the calendar year in which resignation occurs to ensure tax information\\nis sent to the correct address.\\nReturn of Property\\nReturn all Company property at the time of separation, including [[list items to be returned, such as uniforms, cellphones,\\nkeys, tools, laptops, credit cards, and identification cards]]. Failure to return some items may result in deductions from your\\nfinal paycheck where state law allows. [[In some circumstances, the Company may pursue criminal charges for failure to\\nreturn Company property.]]\\n5.11 \\nStandards of Conduct\\nZania, Inc. wishes to create a work environment that promotes job satisfaction, respect, responsibility, integrity, and value for\\nall our employees, clients, customers, and other stakeholders. We all share in the responsibility of improving the quality of\\n13', mimetype='text/plain', start_char_idx=2164, end_char_idx=3268, text_template='{metadata_str}\\n\\n{content}', metadata_template='{key}: {value}', metadata_seperator='\\n'), score=0.3681172296149041),\n",
       " NodeWithScore(node=TextNode(id_='07ac48e0-2567-419f-978f-d234cdc2474e', embedding=None, metadata={'page_label': '45', 'file_name': 'handbook.pdf', 'file_path': 'handbook.pdf', 'file_type': 'application/pdf', 'file_size': 325352, 'creation_date': '2024-11-07', 'last_modified_date': '2024-11-07'}, excluded_embed_metadata_keys=['file_name', 'file_type', 'file_size', 'creation_date', 'last_modified_date', 'last_accessed_date'], excluded_llm_metadata_keys=['file_name', 'file_type', 'file_size', 'creation_date', 'last_modified_date', 'last_accessed_date'], relationships={<NodeRelationship.SOURCE: '1'>: RelatedNodeInfo(node_id='ca84aa6f-4bb9-4a1a-8687-59ad08dd8e17', node_type=<ObjectType.DOCUMENT: '4'>, metadata={'page_label': '45', 'file_name': 'handbook.pdf', 'file_path': 'handbook.pdf', 'file_type': 'application/pdf', 'file_size': 325352, 'creation_date': '2024-11-07', 'last_modified_date': '2024-11-07'}, hash='a0d672d419a755944866939c18c6972de2fa6ef104de934e2afdc4496686bca4')}, text='Closing Statement\\nThank you for reading our handbook. We hope it has provided you with an understanding of our mission, history, and\\nstructure as well as our current policies and guidelines. We look forward to working with you to create a successful\\nCompany and a safe, productive, and pleasant workplace.\\nShruti Gupta, CEO\\nZania, Inc.\\n45', mimetype='text/plain', start_char_idx=0, end_char_idx=338, text_template='{metadata_str}\\n\\n{content}', metadata_template='{key}: {value}', metadata_seperator='\\n'), score=0.3888713601600561),\n",
       " NodeWithScore(node=TextNode(id_='5594d4dd-56ba-45eb-ad71-f70c5f7ebfde', embedding=None, metadata={'page_label': '11', 'file_name': 'handbook.pdf', 'file_path': 'handbook.pdf', 'file_type': 'application/pdf', 'file_size': 325352, 'creation_date': '2024-11-07', 'last_modified_date': '2024-11-07'}, excluded_embed_metadata_keys=['file_name', 'file_type', 'file_size', 'creation_date', 'last_modified_date', 'last_accessed_date'], excluded_llm_metadata_keys=['file_name', 'file_type', 'file_size', 'creation_date', 'last_modified_date', 'last_accessed_date'], relationships={<NodeRelationship.SOURCE: '1'>: RelatedNodeInfo(node_id='422962dd-4899-4ff4-9901-58aad2dd3e80', node_type=<ObjectType.DOCUMENT: '4'>, metadata={'page_label': '11', 'file_name': 'handbook.pdf', 'file_path': 'handbook.pdf', 'file_type': 'application/pdf', 'file_size': 325352, 'creation_date': '2024-11-07', 'last_modified_date': '2024-11-07'}, hash='bdc905474e501bd9f7bb18fb331820a575a00425cfd25d14e04046123c2097eb'), <NodeRelationship.NEXT: '3'>: RelatedNodeInfo(node_id='1e198ea8-5fe1-456b-911b-4b221d5cc2c7', node_type=<ObjectType.TEXT: '1'>, metadata={}, hash='c1bc6a4c07c20e03b54b94064da2f4b933fef43dc238b6cbd6f5d38c410750c2')}, text=\"You are to use rental firms having existing relationships with the Company and, where feasible, have negotiated discount\\nrates. Available reasonable transportation is to be used.\\nPersonal Vehicles\\nWhen using your own vehicle for business purposes, you must maintain insurance coverage as required by law and may not\\nhave more than [[2 points]] on your driving record. Travel between your home and primary office is not considered to be\\nbusiness travel. You may not use your personal vehicle for business travel without authorization. Every attempt should be\\nmade to utilize the use of courier and delivery services in order to avoid hazard of liability and the time away from work. You\\nwill be reimbursed for vehicle use at the standard IRS mileage rate. The [[President or Chief Executive Officer]] must\\nauthorize any deviation from this policy.\\nReporting\\nReport approved expenses and include a description of the expense, its business purpose, date, place, and the participants.\\nTravel Reservations\\nAirline travel, rental cars, and hotels must be booked through the corporate designated travel agency in order to be\\nreimbursed.\\n4.10 \\nUse of Employer Credit Cards\\nAll employees in the possession of a credit card issued by Zania, Inc. will adhere to the strictest guidelines of responsibility\\nfor the protection and proper use of that card. Credit card purchases related to Company vehicle use (gas, oil, etc.) under\\n$100 do not require prior approval. Credit card purchases for vehicle use over $100 and any other business purchases over\\n$25 must receive prior approval from your Manager.\\nSubmit all sales receipts generated by use of the Company credit card [[weekly/monthly]] to your Manager [[or appropriate\\ndepartment]]. Your Company credit card may not be used for personal reasons. Use of the Company credit card is restricted\\nto approved business related expenses.\\nAny unauthorized purchases made with a credit card issued by the Company will be the cardholder's responsibility. You\\nmust reimburse any such purchase to the Company within [[#]] days.\\nImmediately report lost or stolen Company cards to your Manager. Failure to follow this policy may result in disciplinary\\naction up to and including discharge.\\n5.0 \\nPerformance, Discipline, Layoff, and Termination\\n5.1 \\nCriminal Activity/Arrests\\nZania, Inc. will report all criminal activity in accordance with applicable law.\", mimetype='text/plain', start_char_idx=0, end_char_idx=2384, text_template='{metadata_str}\\n\\n{content}', metadata_template='{key}: {value}', metadata_seperator='\\n'), score=0.34834007810138007),\n",
       " NodeWithScore(node=TextNode(id_='633ce12b-b444-40af-82b4-946eb7b3aed1', embedding=None, metadata={'page_label': '25', 'file_name': 'handbook.pdf', 'file_path': 'handbook.pdf', 'file_type': 'application/pdf', 'file_size': 325352, 'creation_date': '2024-11-07', 'last_modified_date': '2024-11-07'}, excluded_embed_metadata_keys=['file_name', 'file_type', 'file_size', 'creation_date', 'last_modified_date', 'last_accessed_date'], excluded_llm_metadata_keys=['file_name', 'file_type', 'file_size', 'creation_date', 'last_modified_date', 'last_accessed_date'], relationships={<NodeRelationship.SOURCE: '1'>: RelatedNodeInfo(node_id='baaec87d-4ac1-4fd5-bc48-4f57c789a3c6', node_type=<ObjectType.DOCUMENT: '4'>, metadata={'page_label': '25', 'file_name': 'handbook.pdf', 'file_path': 'handbook.pdf', 'file_type': 'application/pdf', 'file_size': 325352, 'creation_date': '2024-11-07', 'last_modified_date': '2024-11-07'}, hash='d63caa6c45dd6f35f76a3c0fe143a1abd8ec5f2dbfd0b7c7d6bf5a147c80c43d'), <NodeRelationship.NEXT: '3'>: RelatedNodeInfo(node_id='5159b645-99a3-4953-a7f7-7821ffe085b3', node_type=<ObjectType.TEXT: '1'>, metadata={}, hash='8a23903ef9f939c6317ab7113f5fa0307a6cced383c9fb7e7212408973437727')}, text='Vacation granted during your first year of employment will be prorated based on your hire date.\\n[[\\nOR\\n]]\\n[[\\nOption 2\\n:]]\\nAll eligible employees will accrue [[# hours/days/weeks]] of vacation for every [[period of time]] worked, up to a maximum\\naccrual of [[# hours/days/weeks]]. \\nOnce you reach the maximum accrual amount, you will not accrue any additional vacation until you use some of the accrued\\nbut unused vacation and the amount falls below the maximum accrual amount. You will not receive retroactive credit for any\\nperiod of time in which you did not accrue vacation because you accrued the maximum amount.\\nLeave Usage and Requests for Leave\\nThe Company encourages you to use your vacation time. You are eligible to begin using vacation [[immediately upon\\nhire/upon completion of your introductory period/as soon as it is received /after # days of employment]].\\nYou must request vacation from your Manager as far in advance as possible, but at least [[# days/weeks]] in advance. The\\nCompany will generally grant requests for vacation when possible, taking business needs into consideration. When multiple\\nemployees request the same time off, their [[length of employment/seniority/collective-bargaining agreement]] may\\ndetermine priority in scheduling vacation times.\\nYou must take vacation in increments of at least [[# of hours/days]].\\nDuring a Leave of Absence\\nThe Company may require you to use any unused vacation during disability or family medical leave, or any other leave of\\nabsence, where permissible under local, state, and federal law.\\n[[\\nEMPLOYERS WHO USE AN ACCRUAL METHOD MUST ADD THE FOLLOWING LANGUAGE:\\n You will not accrue\\nvacation during unpaid leaves of absence, or other periods of inactive service, unless vacation accrual is required by\\napplicable federal, state, or local law.]]\\nCarryover\\n[[\\nEMPLOYERS MUST CHOOSE ONE:\\n]]\\n[[Unused vacation can be carried over to the following year [\\nYou may want to explain conditions for carryover:\\n e.g., on\\nor about your anniversary date/at the beginning of the following [calendar/fiscal] year].]] [[The Company may elect to offer\\npayment for the unused time [on or about your anniversary date/at the beginning of the following [calendar/fiscal] year].]]', mimetype='text/plain', start_char_idx=0, end_char_idx=2225, text_template='{metadata_str}\\n\\n{content}', metadata_template='{key}: {value}', metadata_seperator='\\n'), score=0.5945695020116267),\n",
       " NodeWithScore(node=TextNode(id_='5159b645-99a3-4953-a7f7-7821ffe085b3', embedding=None, metadata={'page_label': '25', 'file_name': 'handbook.pdf', 'file_path': 'handbook.pdf', 'file_type': 'application/pdf', 'file_size': 325352, 'creation_date': '2024-11-07', 'last_modified_date': '2024-11-07'}, excluded_embed_metadata_keys=['file_name', 'file_type', 'file_size', 'creation_date', 'last_modified_date', 'last_accessed_date'], excluded_llm_metadata_keys=['file_name', 'file_type', 'file_size', 'creation_date', 'last_modified_date', 'last_accessed_date'], relationships={<NodeRelationship.SOURCE: '1'>: RelatedNodeInfo(node_id='baaec87d-4ac1-4fd5-bc48-4f57c789a3c6', node_type=<ObjectType.DOCUMENT: '4'>, metadata={'page_label': '25', 'file_name': 'handbook.pdf', 'file_path': 'handbook.pdf', 'file_type': 'application/pdf', 'file_size': 325352, 'creation_date': '2024-11-07', 'last_modified_date': '2024-11-07'}, hash='d63caa6c45dd6f35f76a3c0fe143a1abd8ec5f2dbfd0b7c7d6bf5a147c80c43d'), <NodeRelationship.PREVIOUS: '2'>: RelatedNodeInfo(node_id='633ce12b-b444-40af-82b4-946eb7b3aed1', node_type=<ObjectType.TEXT: '1'>, metadata={'page_label': '25', 'file_name': 'handbook.pdf', 'file_path': 'handbook.pdf', 'file_type': 'application/pdf', 'file_size': 325352, 'creation_date': '2024-11-07', 'last_modified_date': '2024-11-07'}, hash='631eb350d9282a6b9a502aeb5e0da370c1fe08048dbe9ba9ad26593a962fd5bd')}, text='[[The Company may elect to offer\\npayment for the unused time [on or about your anniversary date/at the beginning of the following [calendar/fiscal] year].]]\\n[[\\nOR\\n]]\\n[[\\nOPTIONAL LANGUAGE FOR ALL STATES EXCEPT CALIFORNIA, COLORADO, MONTANA, AND NEBRASKA. DO\\nNOT USE THIS LANGUAGE FOR CALIFORNIA, COLORADO, MONTANA, OR NEBRASKA HANDBOOKS.\\n]]\\n[[You may not carry over unused vacation to the following year. Any unused vacation will be forfeited [on or about your\\nanniversary date/at the end of the [calendar/fiscal] year].]]\\nSeparation of Employment\\nUpon separation of employment for any reason, you will [[forfeit any earned but unused [vacation time] unless state law\\ndictates otherwise/will be paid for earned but unused [vacation time].]]\\n25', mimetype='text/plain', start_char_idx=2069, end_char_idx=2811, text_template='{metadata_str}\\n\\n{content}', metadata_template='{key}: {value}', metadata_seperator='\\n'), score=0.569676159572128),\n",
       " NodeWithScore(node=TextNode(id_='bf73cf73-5e9c-42f1-8762-1e5f6b84ddd2', embedding=None, metadata={'page_label': '18', 'file_name': 'handbook.pdf', 'file_path': 'handbook.pdf', 'file_type': 'application/pdf', 'file_size': 325352, 'creation_date': '2024-11-07', 'last_modified_date': '2024-11-07'}, excluded_embed_metadata_keys=['file_name', 'file_type', 'file_size', 'creation_date', 'last_modified_date', 'last_accessed_date'], excluded_llm_metadata_keys=['file_name', 'file_type', 'file_size', 'creation_date', 'last_modified_date', 'last_accessed_date'], relationships={<NodeRelationship.SOURCE: '1'>: RelatedNodeInfo(node_id='38beb029-a70d-420b-a68f-f7d43ffe524d', node_type=<ObjectType.DOCUMENT: '4'>, metadata={'page_label': '18', 'file_name': 'handbook.pdf', 'file_path': 'handbook.pdf', 'file_type': 'application/pdf', 'file_size': 325352, 'creation_date': '2024-11-07', 'last_modified_date': '2024-11-07'}, hash='b884d584116e2b83b09dd1163374552534805255af54dea8d3ba5b18854465d6'), <NodeRelationship.PREVIOUS: '2'>: RelatedNodeInfo(node_id='32cd1c6a-86ea-4fcb-a2a3-afc00561351f', node_type=<ObjectType.TEXT: '1'>, metadata={'page_label': '18', 'file_name': 'handbook.pdf', 'file_path': 'handbook.pdf', 'file_type': 'application/pdf', 'file_size': 325352, 'creation_date': '2024-11-07', 'last_modified_date': '2024-11-07'}, hash='05330d2443f31156a89e04b09149f4622ea7d82d71d1a5c80567c031d2601163')}, text='financial or sales records/reports, marketing or business strategies/plans, product development, customer lists,\\npatents, trademarks, etc.) related to the Company.\\nDo not create a link from your personal blog, website, or other social networking site to a Company website that\\nidentifies you as speaking on behalf of the Company.\\nNever represent yourself as a spokesperson for the Company. If the Company is a subject of the content you are\\ncreating, do not represent yourself as speaking on behalf of the Company. Make it clear in your social media activity\\nthat you are speaking on your own behalf.\\nRespect copyright, trademark, third-party rights, and similar laws and use such protected information in compliance\\nwith applicable legal standards.\\nUsing Social Media at Work\\nDo not use social media while on your work time, unless it is work related as authorized by your manager or consistent with\\npolicies that cover equipment owned by the Company.\\nMedia Contacts\\nIf you are not authorized to speak on behalf of the Company, do not speak to the media on behalf of the Company. Direct all\\nmedia inquiries for official Company responses to Human Resources.\\n18', mimetype='text/plain', start_char_idx=2290, end_char_idx=3451, text_template='{metadata_str}\\n\\n{content}', metadata_template='{key}: {value}', metadata_seperator='\\n'), score=0.17490925723994194),\n",
       " NodeWithScore(node=TextNode(id_='07ac48e0-2567-419f-978f-d234cdc2474e', embedding=None, metadata={'page_label': '45', 'file_name': 'handbook.pdf', 'file_path': 'handbook.pdf', 'file_type': 'application/pdf', 'file_size': 325352, 'creation_date': '2024-11-07', 'last_modified_date': '2024-11-07'}, excluded_embed_metadata_keys=['file_name', 'file_type', 'file_size', 'creation_date', 'last_modified_date', 'last_accessed_date'], excluded_llm_metadata_keys=['file_name', 'file_type', 'file_size', 'creation_date', 'last_modified_date', 'last_accessed_date'], relationships={<NodeRelationship.SOURCE: '1'>: RelatedNodeInfo(node_id='ca84aa6f-4bb9-4a1a-8687-59ad08dd8e17', node_type=<ObjectType.DOCUMENT: '4'>, metadata={'page_label': '45', 'file_name': 'handbook.pdf', 'file_path': 'handbook.pdf', 'file_type': 'application/pdf', 'file_size': 325352, 'creation_date': '2024-11-07', 'last_modified_date': '2024-11-07'}, hash='a0d672d419a755944866939c18c6972de2fa6ef104de934e2afdc4496686bca4')}, text='Closing Statement\\nThank you for reading our handbook. We hope it has provided you with an understanding of our mission, history, and\\nstructure as well as our current policies and guidelines. We look forward to working with you to create a successful\\nCompany and a safe, productive, and pleasant workplace.\\nShruti Gupta, CEO\\nZania, Inc.\\n45', mimetype='text/plain', start_char_idx=0, end_char_idx=338, text_template='{metadata_str}\\n\\n{content}', metadata_template='{key}: {value}', metadata_seperator='\\n'), score=0.13902776336080552)]"
      ]
     },
     "execution_count": 164,
     "metadata": {},
     "output_type": "execute_result"
    }
   ],
   "source": [
    "step_output.output.source_nodes"
   ]
  },
  {
   "cell_type": "code",
   "execution_count": 165,
   "metadata": {},
   "outputs": [
    {
     "name": "stdout",
     "output_type": "stream",
     "text": [
      "=== LLM Response ===\n",
      "{\n",
      "  \"name of the company\": \"Zania, Inc.\",\n",
      "  \"CEO of the company\": \"Shruti Gupta is the CEO of Zania, Inc.\",\n",
      "  \"vacation policy\": \"The vacation policy includes the following key points:\\n\\n1. Vacation granted during the first year of employment is prorated based on the hire date.\\n2. Eligible employees accrue vacation at a specified rate for every period worked, up to a maximum amount. Once this maximum is reached, no additional vacation will accrue until some of the accrued vacation is used.\\n3. Employees can begin using vacation immediately upon hire or after a specified period, and requests for vacation should be made in advance.\\n4. Vacation must be taken in increments of at least a specified number of hours or days.\\n5. Unused vacation may be carried over to the following year, or the company may offer payment for unused vacation at a designated time.\\n6. Upon separation from employment, employees may forfeit any earned but unused vacation unless state law provides otherwise.\",\n",
      "  \"Who is elon musk\": \"Data Not Available\"\n",
      "}\n"
     ]
    }
   ],
   "source": [
    "step_output2 = agent.run_step(task.task_id)"
   ]
  },
  {
   "cell_type": "code",
   "execution_count": 166,
   "metadata": {},
   "outputs": [
    {
     "data": {
      "text/plain": [
       "{'task_id': 'ae04cdc8-eb3b-4a03-b1fb-23193edb8ba9',\n",
       " 'input': 'What is the name of the company? \\n Who is the CEO of the company? \\n What is their vacation policy? \\n Who is elon musk?',\n",
       " 'memory': ChatMemoryBuffer(chat_store=SimpleChatStore(store={}), chat_store_key='chat_history', token_limit=3000, tokenizer_fn=functools.partial(<bound method Encoding.encode of <Encoding 'cl100k_base'>>, allowed_special='all')),\n",
       " 'callback_manager': <llama_index.core.callbacks.base.CallbackManager at 0x1f771b433a0>,\n",
       " 'extra_state': {'sources': [ToolOutput(content='Zania, Inc.', tool_name='document_vector_tool', raw_input={'args': ('name of the company',), 'kwargs': {}}, raw_output=Response(response='Zania, Inc.', source_nodes=[NodeWithScore(node=TextNode(id_='a0a0a99b-db00-4043-9660-f0f5c5b00cfe', embedding=None, metadata={'page_label': '15', 'file_name': 'handbook.pdf', 'file_path': 'handbook.pdf', 'file_type': 'application/pdf', 'file_size': 325352, 'creation_date': '2024-11-07', 'last_modified_date': '2024-11-07'}, excluded_embed_metadata_keys=['file_name', 'file_type', 'file_size', 'creation_date', 'last_modified_date', 'last_accessed_date'], excluded_llm_metadata_keys=['file_name', 'file_type', 'file_size', 'creation_date', 'last_modified_date', 'last_accessed_date'], relationships={<NodeRelationship.SOURCE: '1'>: RelatedNodeInfo(node_id='ff06e053-7b6e-4e15-ad06-8a98f10415d6', node_type=<ObjectType.DOCUMENT: '4'>, metadata={'page_label': '15', 'file_name': 'handbook.pdf', 'file_path': 'handbook.pdf', 'file_type': 'application/pdf', 'file_size': 325352, 'creation_date': '2024-11-07', 'last_modified_date': '2024-11-07'}, hash='358037d7996c62e29453cda30b7ee338b1fff519507f0bf0e2b8864741d0c46d'), <NodeRelationship.NEXT: '3'>: RelatedNodeInfo(node_id='1376b096-21ec-431a-aafd-9973b8811c8b', node_type=<ObjectType.TEXT: '1'>, metadata={}, hash='d2543b0c59cba271826f4238865331bdaacdf27ec5bba0995213f42eb77abf55')}, text='Software programs purchased and provided by Zania, Inc. are to be used only for creating, researching, and processing\\nmaterials for Company use. By using Company hardware, software, and networking systems you assume personal\\nresponsibility for their use and agree to comply with this policy and other applicable Company policies, as well as city, state,\\nand federal laws and regulations.\\nAll software acquired for or on behalf of the Company, or developed by Company employees or contract personnel on behalf\\nof the Company, is and will be deemed Company property. It is the policy of the Company to respect all computer software\\nrights and to adhere to the terms of all software licenses to which the Company is a party. The [[Director of Information\\nSystems]] is responsible for enforcing these guidelines.\\nYou may not illegally duplicate any licensed software or related documentation. Unauthorized duplication of software may\\nsubject you and/or the Company to both civil and criminal penalties under the United States Copyright Act. To purchase\\nsoftware, obtain your manager\\'s approval. All software acquired by the Company must be purchased through [[Information\\nSystems or appropriate department]].\\nYou may not duplicate, copy, or give software to any outsiders including clients, contractors, customers, and others. You\\nmay use software on local area networks or on multiple machines only in accordance with applicable license agreements\\nentered into by the Company.\\n6.2 \\nEmployer Sponsored Social Events\\nZania, Inc. holds periodic social events for employees. Be advised that your attendance at these events is voluntary and\\ndoes not constitute part of your work-related duties. Any exceptions to this policy must be in writing and signed by a\\nManager prior to the event.\\nAlcoholic beverages may be available at these events. If you choose to drink alcoholic beverages, you must do so in a\\nresponsible manner. Do not drink and drive. Instead, please call a taxi or appoint a designated driver.\\n6.3 \\nEmployer-Provided Cell Phones/Mobile Devices\\nZania, Inc. may issue certain employees a Company cell phone/mobile device for work-related communications and/or\\noperations. If you drive a vehicle during your employment, you may not use any cell phone/mobile device or other\\ncommunication device while driving unless the device is equipped or configured with a \"hands-free\" listening/speaking\\noption, and you in fact utilize the hands-free device.', mimetype='text/plain', start_char_idx=0, end_char_idx=2451, text_template='{metadata_str}\\n\\n{content}', metadata_template='{key}: {value}', metadata_seperator='\\n'), score=0.3797657790415764), NodeWithScore(node=TextNode(id_='26b52e78-65ce-4054-a326-1b8c935f783f', embedding=None, metadata={'page_label': '13', 'file_name': 'handbook.pdf', 'file_path': 'handbook.pdf', 'file_type': 'application/pdf', 'file_size': 325352, 'creation_date': '2024-11-07', 'last_modified_date': '2024-11-07'}, excluded_embed_metadata_keys=['file_name', 'file_type', 'file_size', 'creation_date', 'last_modified_date', 'last_accessed_date'], excluded_llm_metadata_keys=['file_name', 'file_type', 'file_size', 'creation_date', 'last_modified_date', 'last_accessed_date'], relationships={<NodeRelationship.SOURCE: '1'>: RelatedNodeInfo(node_id='3de8b417-1aa4-483e-9766-0de9a3afc398', node_type=<ObjectType.DOCUMENT: '4'>, metadata={'page_label': '13', 'file_name': 'handbook.pdf', 'file_path': 'handbook.pdf', 'file_type': 'application/pdf', 'file_size': 325352, 'creation_date': '2024-11-07', 'last_modified_date': '2024-11-07'}, hash='559770aec6c64e700590e99485f07f5acd8d4411e10666a8f9dd20f62d81eac7'), <NodeRelationship.PREVIOUS: '2'>: RelatedNodeInfo(node_id='768f4361-5349-402e-8399-ae48ead5be84', node_type=<ObjectType.TEXT: '1'>, metadata={'page_label': '13', 'file_name': 'handbook.pdf', 'file_path': 'handbook.pdf', 'file_type': 'application/pdf', 'file_size': 325352, 'creation_date': '2024-11-07', 'last_modified_date': '2024-11-07'}, hash='d96eaeca8926c65335f85e2298da6299bf448cfaba1f20079b1f627b50cf5f84')}, text='The Company reserves the right to provide you with pay in lieu of notice in situations where job or business needs warrant.\\nFinal Pay\\nThe Company will pay separated employees in accordance with applicable laws and other sections of this handbook. \\nNotify the Company if your address changes during the calendar year in which resignation occurs to ensure tax information\\nis sent to the correct address.\\nReturn of Property\\nReturn all Company property at the time of separation, including [[list items to be returned, such as uniforms, cellphones,\\nkeys, tools, laptops, credit cards, and identification cards]]. Failure to return some items may result in deductions from your\\nfinal paycheck where state law allows. [[In some circumstances, the Company may pursue criminal charges for failure to\\nreturn Company property.]]\\n5.11 \\nStandards of Conduct\\nZania, Inc. wishes to create a work environment that promotes job satisfaction, respect, responsibility, integrity, and value for\\nall our employees, clients, customers, and other stakeholders. We all share in the responsibility of improving the quality of\\n13', mimetype='text/plain', start_char_idx=2164, end_char_idx=3268, text_template='{metadata_str}\\n\\n{content}', metadata_template='{key}: {value}', metadata_seperator='\\n'), score=0.3681172296149041)], metadata={'a0a0a99b-db00-4043-9660-f0f5c5b00cfe': {'page_label': '15', 'file_name': 'handbook.pdf', 'file_path': 'handbook.pdf', 'file_type': 'application/pdf', 'file_size': 325352, 'creation_date': '2024-11-07', 'last_modified_date': '2024-11-07'}, '26b52e78-65ce-4054-a326-1b8c935f783f': {'page_label': '13', 'file_name': 'handbook.pdf', 'file_path': 'handbook.pdf', 'file_type': 'application/pdf', 'file_size': 325352, 'creation_date': '2024-11-07', 'last_modified_date': '2024-11-07'}}), is_error=False),\n",
       "   ToolOutput(content='Shruti Gupta is the CEO of Zania, Inc.', tool_name='document_vector_tool', raw_input={'args': ('CEO of the company',), 'kwargs': {}}, raw_output=Response(response='Shruti Gupta is the CEO of Zania, Inc.', source_nodes=[NodeWithScore(node=TextNode(id_='07ac48e0-2567-419f-978f-d234cdc2474e', embedding=None, metadata={'page_label': '45', 'file_name': 'handbook.pdf', 'file_path': 'handbook.pdf', 'file_type': 'application/pdf', 'file_size': 325352, 'creation_date': '2024-11-07', 'last_modified_date': '2024-11-07'}, excluded_embed_metadata_keys=['file_name', 'file_type', 'file_size', 'creation_date', 'last_modified_date', 'last_accessed_date'], excluded_llm_metadata_keys=['file_name', 'file_type', 'file_size', 'creation_date', 'last_modified_date', 'last_accessed_date'], relationships={<NodeRelationship.SOURCE: '1'>: RelatedNodeInfo(node_id='ca84aa6f-4bb9-4a1a-8687-59ad08dd8e17', node_type=<ObjectType.DOCUMENT: '4'>, metadata={'page_label': '45', 'file_name': 'handbook.pdf', 'file_path': 'handbook.pdf', 'file_type': 'application/pdf', 'file_size': 325352, 'creation_date': '2024-11-07', 'last_modified_date': '2024-11-07'}, hash='a0d672d419a755944866939c18c6972de2fa6ef104de934e2afdc4496686bca4')}, text='Closing Statement\\nThank you for reading our handbook. We hope it has provided you with an understanding of our mission, history, and\\nstructure as well as our current policies and guidelines. We look forward to working with you to create a successful\\nCompany and a safe, productive, and pleasant workplace.\\nShruti Gupta, CEO\\nZania, Inc.\\n45', mimetype='text/plain', start_char_idx=0, end_char_idx=338, text_template='{metadata_str}\\n\\n{content}', metadata_template='{key}: {value}', metadata_seperator='\\n'), score=0.3888713601600561), NodeWithScore(node=TextNode(id_='5594d4dd-56ba-45eb-ad71-f70c5f7ebfde', embedding=None, metadata={'page_label': '11', 'file_name': 'handbook.pdf', 'file_path': 'handbook.pdf', 'file_type': 'application/pdf', 'file_size': 325352, 'creation_date': '2024-11-07', 'last_modified_date': '2024-11-07'}, excluded_embed_metadata_keys=['file_name', 'file_type', 'file_size', 'creation_date', 'last_modified_date', 'last_accessed_date'], excluded_llm_metadata_keys=['file_name', 'file_type', 'file_size', 'creation_date', 'last_modified_date', 'last_accessed_date'], relationships={<NodeRelationship.SOURCE: '1'>: RelatedNodeInfo(node_id='422962dd-4899-4ff4-9901-58aad2dd3e80', node_type=<ObjectType.DOCUMENT: '4'>, metadata={'page_label': '11', 'file_name': 'handbook.pdf', 'file_path': 'handbook.pdf', 'file_type': 'application/pdf', 'file_size': 325352, 'creation_date': '2024-11-07', 'last_modified_date': '2024-11-07'}, hash='bdc905474e501bd9f7bb18fb331820a575a00425cfd25d14e04046123c2097eb'), <NodeRelationship.NEXT: '3'>: RelatedNodeInfo(node_id='1e198ea8-5fe1-456b-911b-4b221d5cc2c7', node_type=<ObjectType.TEXT: '1'>, metadata={}, hash='c1bc6a4c07c20e03b54b94064da2f4b933fef43dc238b6cbd6f5d38c410750c2')}, text=\"You are to use rental firms having existing relationships with the Company and, where feasible, have negotiated discount\\nrates. Available reasonable transportation is to be used.\\nPersonal Vehicles\\nWhen using your own vehicle for business purposes, you must maintain insurance coverage as required by law and may not\\nhave more than [[2 points]] on your driving record. Travel between your home and primary office is not considered to be\\nbusiness travel. You may not use your personal vehicle for business travel without authorization. Every attempt should be\\nmade to utilize the use of courier and delivery services in order to avoid hazard of liability and the time away from work. You\\nwill be reimbursed for vehicle use at the standard IRS mileage rate. The [[President or Chief Executive Officer]] must\\nauthorize any deviation from this policy.\\nReporting\\nReport approved expenses and include a description of the expense, its business purpose, date, place, and the participants.\\nTravel Reservations\\nAirline travel, rental cars, and hotels must be booked through the corporate designated travel agency in order to be\\nreimbursed.\\n4.10 \\nUse of Employer Credit Cards\\nAll employees in the possession of a credit card issued by Zania, Inc. will adhere to the strictest guidelines of responsibility\\nfor the protection and proper use of that card. Credit card purchases related to Company vehicle use (gas, oil, etc.) under\\n$100 do not require prior approval. Credit card purchases for vehicle use over $100 and any other business purchases over\\n$25 must receive prior approval from your Manager.\\nSubmit all sales receipts generated by use of the Company credit card [[weekly/monthly]] to your Manager [[or appropriate\\ndepartment]]. Your Company credit card may not be used for personal reasons. Use of the Company credit card is restricted\\nto approved business related expenses.\\nAny unauthorized purchases made with a credit card issued by the Company will be the cardholder's responsibility. You\\nmust reimburse any such purchase to the Company within [[#]] days.\\nImmediately report lost or stolen Company cards to your Manager. Failure to follow this policy may result in disciplinary\\naction up to and including discharge.\\n5.0 \\nPerformance, Discipline, Layoff, and Termination\\n5.1 \\nCriminal Activity/Arrests\\nZania, Inc. will report all criminal activity in accordance with applicable law.\", mimetype='text/plain', start_char_idx=0, end_char_idx=2384, text_template='{metadata_str}\\n\\n{content}', metadata_template='{key}: {value}', metadata_seperator='\\n'), score=0.34834007810138007)], metadata={'07ac48e0-2567-419f-978f-d234cdc2474e': {'page_label': '45', 'file_name': 'handbook.pdf', 'file_path': 'handbook.pdf', 'file_type': 'application/pdf', 'file_size': 325352, 'creation_date': '2024-11-07', 'last_modified_date': '2024-11-07'}, '5594d4dd-56ba-45eb-ad71-f70c5f7ebfde': {'page_label': '11', 'file_name': 'handbook.pdf', 'file_path': 'handbook.pdf', 'file_type': 'application/pdf', 'file_size': 325352, 'creation_date': '2024-11-07', 'last_modified_date': '2024-11-07'}}), is_error=False),\n",
       "   ToolOutput(content='The vacation policy includes the following key points:\\n\\n1. Vacation granted during the first year of employment is prorated based on the hire date.\\n2. Eligible employees accrue vacation at a specified rate for every period worked, up to a maximum amount. Once this maximum is reached, no additional vacation will accrue until some of the accrued vacation is used.\\n3. Employees can begin using vacation immediately upon hire or after a specified period, and requests for vacation should be made in advance.\\n4. Vacation must be taken in increments of at least a specified number of hours or days.\\n5. Unused vacation may be carried over to the following year, or the company may offer payment for unused vacation at a designated time.\\n6. Upon separation from employment, employees may forfeit any earned but unused vacation unless state law provides otherwise.', tool_name='document_vector_tool', raw_input={'args': ('vacation policy',), 'kwargs': {}}, raw_output=Response(response='The vacation policy includes the following key points:\\n\\n1. Vacation granted during the first year of employment is prorated based on the hire date.\\n2. Eligible employees accrue vacation at a specified rate for every period worked, up to a maximum amount. Once this maximum is reached, no additional vacation will accrue until some of the accrued vacation is used.\\n3. Employees can begin using vacation immediately upon hire or after a specified period, and requests for vacation should be made in advance.\\n4. Vacation must be taken in increments of at least a specified number of hours or days.\\n5. Unused vacation may be carried over to the following year, or the company may offer payment for unused vacation at a designated time.\\n6. Upon separation from employment, employees may forfeit any earned but unused vacation unless state law provides otherwise.', source_nodes=[NodeWithScore(node=TextNode(id_='633ce12b-b444-40af-82b4-946eb7b3aed1', embedding=None, metadata={'page_label': '25', 'file_name': 'handbook.pdf', 'file_path': 'handbook.pdf', 'file_type': 'application/pdf', 'file_size': 325352, 'creation_date': '2024-11-07', 'last_modified_date': '2024-11-07'}, excluded_embed_metadata_keys=['file_name', 'file_type', 'file_size', 'creation_date', 'last_modified_date', 'last_accessed_date'], excluded_llm_metadata_keys=['file_name', 'file_type', 'file_size', 'creation_date', 'last_modified_date', 'last_accessed_date'], relationships={<NodeRelationship.SOURCE: '1'>: RelatedNodeInfo(node_id='baaec87d-4ac1-4fd5-bc48-4f57c789a3c6', node_type=<ObjectType.DOCUMENT: '4'>, metadata={'page_label': '25', 'file_name': 'handbook.pdf', 'file_path': 'handbook.pdf', 'file_type': 'application/pdf', 'file_size': 325352, 'creation_date': '2024-11-07', 'last_modified_date': '2024-11-07'}, hash='d63caa6c45dd6f35f76a3c0fe143a1abd8ec5f2dbfd0b7c7d6bf5a147c80c43d'), <NodeRelationship.NEXT: '3'>: RelatedNodeInfo(node_id='5159b645-99a3-4953-a7f7-7821ffe085b3', node_type=<ObjectType.TEXT: '1'>, metadata={}, hash='8a23903ef9f939c6317ab7113f5fa0307a6cced383c9fb7e7212408973437727')}, text='Vacation granted during your first year of employment will be prorated based on your hire date.\\n[[\\nOR\\n]]\\n[[\\nOption 2\\n:]]\\nAll eligible employees will accrue [[# hours/days/weeks]] of vacation for every [[period of time]] worked, up to a maximum\\naccrual of [[# hours/days/weeks]]. \\nOnce you reach the maximum accrual amount, you will not accrue any additional vacation until you use some of the accrued\\nbut unused vacation and the amount falls below the maximum accrual amount. You will not receive retroactive credit for any\\nperiod of time in which you did not accrue vacation because you accrued the maximum amount.\\nLeave Usage and Requests for Leave\\nThe Company encourages you to use your vacation time. You are eligible to begin using vacation [[immediately upon\\nhire/upon completion of your introductory period/as soon as it is received /after # days of employment]].\\nYou must request vacation from your Manager as far in advance as possible, but at least [[# days/weeks]] in advance. The\\nCompany will generally grant requests for vacation when possible, taking business needs into consideration. When multiple\\nemployees request the same time off, their [[length of employment/seniority/collective-bargaining agreement]] may\\ndetermine priority in scheduling vacation times.\\nYou must take vacation in increments of at least [[# of hours/days]].\\nDuring a Leave of Absence\\nThe Company may require you to use any unused vacation during disability or family medical leave, or any other leave of\\nabsence, where permissible under local, state, and federal law.\\n[[\\nEMPLOYERS WHO USE AN ACCRUAL METHOD MUST ADD THE FOLLOWING LANGUAGE:\\n You will not accrue\\nvacation during unpaid leaves of absence, or other periods of inactive service, unless vacation accrual is required by\\napplicable federal, state, or local law.]]\\nCarryover\\n[[\\nEMPLOYERS MUST CHOOSE ONE:\\n]]\\n[[Unused vacation can be carried over to the following year [\\nYou may want to explain conditions for carryover:\\n e.g., on\\nor about your anniversary date/at the beginning of the following [calendar/fiscal] year].]] [[The Company may elect to offer\\npayment for the unused time [on or about your anniversary date/at the beginning of the following [calendar/fiscal] year].]]', mimetype='text/plain', start_char_idx=0, end_char_idx=2225, text_template='{metadata_str}\\n\\n{content}', metadata_template='{key}: {value}', metadata_seperator='\\n'), score=0.5945695020116267), NodeWithScore(node=TextNode(id_='5159b645-99a3-4953-a7f7-7821ffe085b3', embedding=None, metadata={'page_label': '25', 'file_name': 'handbook.pdf', 'file_path': 'handbook.pdf', 'file_type': 'application/pdf', 'file_size': 325352, 'creation_date': '2024-11-07', 'last_modified_date': '2024-11-07'}, excluded_embed_metadata_keys=['file_name', 'file_type', 'file_size', 'creation_date', 'last_modified_date', 'last_accessed_date'], excluded_llm_metadata_keys=['file_name', 'file_type', 'file_size', 'creation_date', 'last_modified_date', 'last_accessed_date'], relationships={<NodeRelationship.SOURCE: '1'>: RelatedNodeInfo(node_id='baaec87d-4ac1-4fd5-bc48-4f57c789a3c6', node_type=<ObjectType.DOCUMENT: '4'>, metadata={'page_label': '25', 'file_name': 'handbook.pdf', 'file_path': 'handbook.pdf', 'file_type': 'application/pdf', 'file_size': 325352, 'creation_date': '2024-11-07', 'last_modified_date': '2024-11-07'}, hash='d63caa6c45dd6f35f76a3c0fe143a1abd8ec5f2dbfd0b7c7d6bf5a147c80c43d'), <NodeRelationship.PREVIOUS: '2'>: RelatedNodeInfo(node_id='633ce12b-b444-40af-82b4-946eb7b3aed1', node_type=<ObjectType.TEXT: '1'>, metadata={'page_label': '25', 'file_name': 'handbook.pdf', 'file_path': 'handbook.pdf', 'file_type': 'application/pdf', 'file_size': 325352, 'creation_date': '2024-11-07', 'last_modified_date': '2024-11-07'}, hash='631eb350d9282a6b9a502aeb5e0da370c1fe08048dbe9ba9ad26593a962fd5bd')}, text='[[The Company may elect to offer\\npayment for the unused time [on or about your anniversary date/at the beginning of the following [calendar/fiscal] year].]]\\n[[\\nOR\\n]]\\n[[\\nOPTIONAL LANGUAGE FOR ALL STATES EXCEPT CALIFORNIA, COLORADO, MONTANA, AND NEBRASKA. DO\\nNOT USE THIS LANGUAGE FOR CALIFORNIA, COLORADO, MONTANA, OR NEBRASKA HANDBOOKS.\\n]]\\n[[You may not carry over unused vacation to the following year. Any unused vacation will be forfeited [on or about your\\nanniversary date/at the end of the [calendar/fiscal] year].]]\\nSeparation of Employment\\nUpon separation of employment for any reason, you will [[forfeit any earned but unused [vacation time] unless state law\\ndictates otherwise/will be paid for earned but unused [vacation time].]]\\n25', mimetype='text/plain', start_char_idx=2069, end_char_idx=2811, text_template='{metadata_str}\\n\\n{content}', metadata_template='{key}: {value}', metadata_seperator='\\n'), score=0.569676159572128)], metadata={'633ce12b-b444-40af-82b4-946eb7b3aed1': {'page_label': '25', 'file_name': 'handbook.pdf', 'file_path': 'handbook.pdf', 'file_type': 'application/pdf', 'file_size': 325352, 'creation_date': '2024-11-07', 'last_modified_date': '2024-11-07'}, '5159b645-99a3-4953-a7f7-7821ffe085b3': {'page_label': '25', 'file_name': 'handbook.pdf', 'file_path': 'handbook.pdf', 'file_type': 'application/pdf', 'file_size': 325352, 'creation_date': '2024-11-07', 'last_modified_date': '2024-11-07'}}), is_error=False),\n",
       "   ToolOutput(content='Data Not Available', tool_name='document_vector_tool', raw_input={'args': ('Who is elon musk',), 'kwargs': {}}, raw_output=Response(response='Data Not Available', source_nodes=[NodeWithScore(node=TextNode(id_='bf73cf73-5e9c-42f1-8762-1e5f6b84ddd2', embedding=None, metadata={'page_label': '18', 'file_name': 'handbook.pdf', 'file_path': 'handbook.pdf', 'file_type': 'application/pdf', 'file_size': 325352, 'creation_date': '2024-11-07', 'last_modified_date': '2024-11-07'}, excluded_embed_metadata_keys=['file_name', 'file_type', 'file_size', 'creation_date', 'last_modified_date', 'last_accessed_date'], excluded_llm_metadata_keys=['file_name', 'file_type', 'file_size', 'creation_date', 'last_modified_date', 'last_accessed_date'], relationships={<NodeRelationship.SOURCE: '1'>: RelatedNodeInfo(node_id='38beb029-a70d-420b-a68f-f7d43ffe524d', node_type=<ObjectType.DOCUMENT: '4'>, metadata={'page_label': '18', 'file_name': 'handbook.pdf', 'file_path': 'handbook.pdf', 'file_type': 'application/pdf', 'file_size': 325352, 'creation_date': '2024-11-07', 'last_modified_date': '2024-11-07'}, hash='b884d584116e2b83b09dd1163374552534805255af54dea8d3ba5b18854465d6'), <NodeRelationship.PREVIOUS: '2'>: RelatedNodeInfo(node_id='32cd1c6a-86ea-4fcb-a2a3-afc00561351f', node_type=<ObjectType.TEXT: '1'>, metadata={'page_label': '18', 'file_name': 'handbook.pdf', 'file_path': 'handbook.pdf', 'file_type': 'application/pdf', 'file_size': 325352, 'creation_date': '2024-11-07', 'last_modified_date': '2024-11-07'}, hash='05330d2443f31156a89e04b09149f4622ea7d82d71d1a5c80567c031d2601163')}, text='financial or sales records/reports, marketing or business strategies/plans, product development, customer lists,\\npatents, trademarks, etc.) related to the Company.\\nDo not create a link from your personal blog, website, or other social networking site to a Company website that\\nidentifies you as speaking on behalf of the Company.\\nNever represent yourself as a spokesperson for the Company. If the Company is a subject of the content you are\\ncreating, do not represent yourself as speaking on behalf of the Company. Make it clear in your social media activity\\nthat you are speaking on your own behalf.\\nRespect copyright, trademark, third-party rights, and similar laws and use such protected information in compliance\\nwith applicable legal standards.\\nUsing Social Media at Work\\nDo not use social media while on your work time, unless it is work related as authorized by your manager or consistent with\\npolicies that cover equipment owned by the Company.\\nMedia Contacts\\nIf you are not authorized to speak on behalf of the Company, do not speak to the media on behalf of the Company. Direct all\\nmedia inquiries for official Company responses to Human Resources.\\n18', mimetype='text/plain', start_char_idx=2290, end_char_idx=3451, text_template='{metadata_str}\\n\\n{content}', metadata_template='{key}: {value}', metadata_seperator='\\n'), score=0.17490925723994194), NodeWithScore(node=TextNode(id_='07ac48e0-2567-419f-978f-d234cdc2474e', embedding=None, metadata={'page_label': '45', 'file_name': 'handbook.pdf', 'file_path': 'handbook.pdf', 'file_type': 'application/pdf', 'file_size': 325352, 'creation_date': '2024-11-07', 'last_modified_date': '2024-11-07'}, excluded_embed_metadata_keys=['file_name', 'file_type', 'file_size', 'creation_date', 'last_modified_date', 'last_accessed_date'], excluded_llm_metadata_keys=['file_name', 'file_type', 'file_size', 'creation_date', 'last_modified_date', 'last_accessed_date'], relationships={<NodeRelationship.SOURCE: '1'>: RelatedNodeInfo(node_id='ca84aa6f-4bb9-4a1a-8687-59ad08dd8e17', node_type=<ObjectType.DOCUMENT: '4'>, metadata={'page_label': '45', 'file_name': 'handbook.pdf', 'file_path': 'handbook.pdf', 'file_type': 'application/pdf', 'file_size': 325352, 'creation_date': '2024-11-07', 'last_modified_date': '2024-11-07'}, hash='a0d672d419a755944866939c18c6972de2fa6ef104de934e2afdc4496686bca4')}, text='Closing Statement\\nThank you for reading our handbook. We hope it has provided you with an understanding of our mission, history, and\\nstructure as well as our current policies and guidelines. We look forward to working with you to create a successful\\nCompany and a safe, productive, and pleasant workplace.\\nShruti Gupta, CEO\\nZania, Inc.\\n45', mimetype='text/plain', start_char_idx=0, end_char_idx=338, text_template='{metadata_str}\\n\\n{content}', metadata_template='{key}: {value}', metadata_seperator='\\n'), score=0.13902776336080552)], metadata={'bf73cf73-5e9c-42f1-8762-1e5f6b84ddd2': {'page_label': '18', 'file_name': 'handbook.pdf', 'file_path': 'handbook.pdf', 'file_type': 'application/pdf', 'file_size': 325352, 'creation_date': '2024-11-07', 'last_modified_date': '2024-11-07'}, '07ac48e0-2567-419f-978f-d234cdc2474e': {'page_label': '45', 'file_name': 'handbook.pdf', 'file_path': 'handbook.pdf', 'file_type': 'application/pdf', 'file_size': 325352, 'creation_date': '2024-11-07', 'last_modified_date': '2024-11-07'}}), is_error=False)],\n",
       "  'n_function_calls': 4,\n",
       "  'new_memory': ChatMemoryBuffer(chat_store=SimpleChatStore(store={'chat_history': [ChatMessage(role=<MessageRole.USER: 'user'>, content='What is the name of the company? \\n Who is the CEO of the company? \\n What is their vacation policy? \\n Who is elon musk?', additional_kwargs={}), ChatMessage(role=<MessageRole.ASSISTANT: 'assistant'>, content=None, additional_kwargs={'tool_calls': [ChatCompletionMessageToolCall(id='call_mNUEXoEccACbKtWVshBLlVK8', function=Function(arguments='{\"query\": \"name of the company\"}', name='document_vector_tool'), type='function'), ChatCompletionMessageToolCall(id='call_Zki3ZdfQpE9QFDJADMgDybj7', function=Function(arguments='{\"query\": \"CEO of the company\"}', name='document_vector_tool'), type='function'), ChatCompletionMessageToolCall(id='call_7uLZhxCC35ojl4hSMEtNlAJl', function=Function(arguments='{\"query\": \"vacation policy\"}', name='document_vector_tool'), type='function'), ChatCompletionMessageToolCall(id='call_iW1JnOzZMTo0fDwR4EbWTjA5', function=Function(arguments='{\"query\": \"Who is elon musk\"}', name='document_vector_tool'), type='function')]}), ChatMessage(role=<MessageRole.TOOL: 'tool'>, content='Zania, Inc.', additional_kwargs={'name': 'document_vector_tool', 'tool_call_id': 'call_mNUEXoEccACbKtWVshBLlVK8'}), ChatMessage(role=<MessageRole.TOOL: 'tool'>, content='Shruti Gupta is the CEO of Zania, Inc.', additional_kwargs={'name': 'document_vector_tool', 'tool_call_id': 'call_Zki3ZdfQpE9QFDJADMgDybj7'}), ChatMessage(role=<MessageRole.TOOL: 'tool'>, content='The vacation policy includes the following key points:\\n\\n1. Vacation granted during the first year of employment is prorated based on the hire date.\\n2. Eligible employees accrue vacation at a specified rate for every period worked, up to a maximum amount. Once this maximum is reached, no additional vacation will accrue until some of the accrued vacation is used.\\n3. Employees can begin using vacation immediately upon hire or after a specified period, and requests for vacation should be made in advance.\\n4. Vacation must be taken in increments of at least a specified number of hours or days.\\n5. Unused vacation may be carried over to the following year, or the company may offer payment for unused vacation at a designated time.\\n6. Upon separation from employment, employees may forfeit any earned but unused vacation unless state law provides otherwise.', additional_kwargs={'name': 'document_vector_tool', 'tool_call_id': 'call_7uLZhxCC35ojl4hSMEtNlAJl'}), ChatMessage(role=<MessageRole.TOOL: 'tool'>, content='Data Not Available', additional_kwargs={'name': 'document_vector_tool', 'tool_call_id': 'call_iW1JnOzZMTo0fDwR4EbWTjA5'}), ChatMessage(role=<MessageRole.ASSISTANT: 'assistant'>, content='{\\n  \"name of the company\": \"Zania, Inc.\",\\n  \"CEO of the company\": \"Shruti Gupta is the CEO of Zania, Inc.\",\\n  \"vacation policy\": \"The vacation policy includes the following key points:\\\\n\\\\n1. Vacation granted during the first year of employment is prorated based on the hire date.\\\\n2. Eligible employees accrue vacation at a specified rate for every period worked, up to a maximum amount. Once this maximum is reached, no additional vacation will accrue until some of the accrued vacation is used.\\\\n3. Employees can begin using vacation immediately upon hire or after a specified period, and requests for vacation should be made in advance.\\\\n4. Vacation must be taken in increments of at least a specified number of hours or days.\\\\n5. Unused vacation may be carried over to the following year, or the company may offer payment for unused vacation at a designated time.\\\\n6. Upon separation from employment, employees may forfeit any earned but unused vacation unless state law provides otherwise.\",\\n  \"Who is elon musk\": \"Data Not Available\"\\n}', additional_kwargs={})]}), chat_store_key='chat_history', token_limit=3000, tokenizer_fn=functools.partial(<bound method Encoding.encode of <Encoding 'cl100k_base'>>, allowed_special='all'))}}"
      ]
     },
     "execution_count": 166,
     "metadata": {},
     "output_type": "execute_result"
    }
   ],
   "source": [
    "agent.state.get_task(task.task_id).__dict__"
   ]
  },
  {
   "cell_type": "code",
   "execution_count": 167,
   "metadata": {},
   "outputs": [
    {
     "data": {
      "text/plain": [
       "0"
      ]
     },
     "execution_count": 167,
     "metadata": {},
     "output_type": "execute_result"
    }
   ],
   "source": [
    "len(agent.get_upcoming_steps(task.task_id))"
   ]
  },
  {
   "cell_type": "code",
   "execution_count": 168,
   "metadata": {},
   "outputs": [],
   "source": [
    "response = agent.finalize_response(task.task_id)"
   ]
  },
  {
   "cell_type": "code",
   "execution_count": 169,
   "metadata": {},
   "outputs": [
    {
     "data": {
      "text/plain": [
       "{'name of the company': 'Zania, Inc.',\n",
       " 'CEO of the company': 'Shruti Gupta is the CEO of Zania, Inc.',\n",
       " 'vacation policy': 'The vacation policy includes the following key points:\\n\\n1. Vacation granted during the first year of employment is prorated based on the hire date.\\n2. Eligible employees accrue vacation at a specified rate for every period worked, up to a maximum amount. Once this maximum is reached, no additional vacation will accrue until some of the accrued vacation is used.\\n3. Employees can begin using vacation immediately upon hire or after a specified period, and requests for vacation should be made in advance.\\n4. Vacation must be taken in increments of at least a specified number of hours or days.\\n5. Unused vacation may be carried over to the following year, or the company may offer payment for unused vacation at a designated time.\\n6. Upon separation from employment, employees may forfeit any earned but unused vacation unless state law provides otherwise.',\n",
       " 'Who is elon musk': 'Data Not Available'}"
      ]
     },
     "execution_count": 169,
     "metadata": {},
     "output_type": "execute_result"
    }
   ],
   "source": [
    "import json\n",
    "json.loads(response.response)"
   ]
  },
  {
   "cell_type": "code",
   "execution_count": null,
   "metadata": {},
   "outputs": [
    {
     "data": {
      "text/plain": [
       "[NodeWithScore(node=TextNode(id_='a0a0a99b-db00-4043-9660-f0f5c5b00cfe', embedding=None, metadata={'page_label': '15', 'file_name': 'handbook.pdf', 'file_path': 'handbook.pdf', 'file_type': 'application/pdf', 'file_size': 325352, 'creation_date': '2024-11-07', 'last_modified_date': '2024-11-07'}, excluded_embed_metadata_keys=['file_name', 'file_type', 'file_size', 'creation_date', 'last_modified_date', 'last_accessed_date'], excluded_llm_metadata_keys=['file_name', 'file_type', 'file_size', 'creation_date', 'last_modified_date', 'last_accessed_date'], relationships={<NodeRelationship.SOURCE: '1'>: RelatedNodeInfo(node_id='ff06e053-7b6e-4e15-ad06-8a98f10415d6', node_type=<ObjectType.DOCUMENT: '4'>, metadata={'page_label': '15', 'file_name': 'handbook.pdf', 'file_path': 'handbook.pdf', 'file_type': 'application/pdf', 'file_size': 325352, 'creation_date': '2024-11-07', 'last_modified_date': '2024-11-07'}, hash='358037d7996c62e29453cda30b7ee338b1fff519507f0bf0e2b8864741d0c46d'), <NodeRelationship.NEXT: '3'>: RelatedNodeInfo(node_id='1376b096-21ec-431a-aafd-9973b8811c8b', node_type=<ObjectType.TEXT: '1'>, metadata={}, hash='d2543b0c59cba271826f4238865331bdaacdf27ec5bba0995213f42eb77abf55')}, text='Software programs purchased and provided by Zania, Inc. are to be used only for creating, researching, and processing\\nmaterials for Company use. By using Company hardware, software, and networking systems you assume personal\\nresponsibility for their use and agree to comply with this policy and other applicable Company policies, as well as city, state,\\nand federal laws and regulations.\\nAll software acquired for or on behalf of the Company, or developed by Company employees or contract personnel on behalf\\nof the Company, is and will be deemed Company property. It is the policy of the Company to respect all computer software\\nrights and to adhere to the terms of all software licenses to which the Company is a party. The [[Director of Information\\nSystems]] is responsible for enforcing these guidelines.\\nYou may not illegally duplicate any licensed software or related documentation. Unauthorized duplication of software may\\nsubject you and/or the Company to both civil and criminal penalties under the United States Copyright Act. To purchase\\nsoftware, obtain your manager\\'s approval. All software acquired by the Company must be purchased through [[Information\\nSystems or appropriate department]].\\nYou may not duplicate, copy, or give software to any outsiders including clients, contractors, customers, and others. You\\nmay use software on local area networks or on multiple machines only in accordance with applicable license agreements\\nentered into by the Company.\\n6.2 \\nEmployer Sponsored Social Events\\nZania, Inc. holds periodic social events for employees. Be advised that your attendance at these events is voluntary and\\ndoes not constitute part of your work-related duties. Any exceptions to this policy must be in writing and signed by a\\nManager prior to the event.\\nAlcoholic beverages may be available at these events. If you choose to drink alcoholic beverages, you must do so in a\\nresponsible manner. Do not drink and drive. Instead, please call a taxi or appoint a designated driver.\\n6.3 \\nEmployer-Provided Cell Phones/Mobile Devices\\nZania, Inc. may issue certain employees a Company cell phone/mobile device for work-related communications and/or\\noperations. If you drive a vehicle during your employment, you may not use any cell phone/mobile device or other\\ncommunication device while driving unless the device is equipped or configured with a \"hands-free\" listening/speaking\\noption, and you in fact utilize the hands-free device.', mimetype='text/plain', start_char_idx=0, end_char_idx=2451, text_template='{metadata_str}\\n\\n{content}', metadata_template='{key}: {value}', metadata_seperator='\\n'), score=0.3797657790415764),\n",
       " NodeWithScore(node=TextNode(id_='26b52e78-65ce-4054-a326-1b8c935f783f', embedding=None, metadata={'page_label': '13', 'file_name': 'handbook.pdf', 'file_path': 'handbook.pdf', 'file_type': 'application/pdf', 'file_size': 325352, 'creation_date': '2024-11-07', 'last_modified_date': '2024-11-07'}, excluded_embed_metadata_keys=['file_name', 'file_type', 'file_size', 'creation_date', 'last_modified_date', 'last_accessed_date'], excluded_llm_metadata_keys=['file_name', 'file_type', 'file_size', 'creation_date', 'last_modified_date', 'last_accessed_date'], relationships={<NodeRelationship.SOURCE: '1'>: RelatedNodeInfo(node_id='3de8b417-1aa4-483e-9766-0de9a3afc398', node_type=<ObjectType.DOCUMENT: '4'>, metadata={'page_label': '13', 'file_name': 'handbook.pdf', 'file_path': 'handbook.pdf', 'file_type': 'application/pdf', 'file_size': 325352, 'creation_date': '2024-11-07', 'last_modified_date': '2024-11-07'}, hash='559770aec6c64e700590e99485f07f5acd8d4411e10666a8f9dd20f62d81eac7'), <NodeRelationship.PREVIOUS: '2'>: RelatedNodeInfo(node_id='768f4361-5349-402e-8399-ae48ead5be84', node_type=<ObjectType.TEXT: '1'>, metadata={'page_label': '13', 'file_name': 'handbook.pdf', 'file_path': 'handbook.pdf', 'file_type': 'application/pdf', 'file_size': 325352, 'creation_date': '2024-11-07', 'last_modified_date': '2024-11-07'}, hash='d96eaeca8926c65335f85e2298da6299bf448cfaba1f20079b1f627b50cf5f84')}, text='The Company reserves the right to provide you with pay in lieu of notice in situations where job or business needs warrant.\\nFinal Pay\\nThe Company will pay separated employees in accordance with applicable laws and other sections of this handbook. \\nNotify the Company if your address changes during the calendar year in which resignation occurs to ensure tax information\\nis sent to the correct address.\\nReturn of Property\\nReturn all Company property at the time of separation, including [[list items to be returned, such as uniforms, cellphones,\\nkeys, tools, laptops, credit cards, and identification cards]]. Failure to return some items may result in deductions from your\\nfinal paycheck where state law allows. [[In some circumstances, the Company may pursue criminal charges for failure to\\nreturn Company property.]]\\n5.11 \\nStandards of Conduct\\nZania, Inc. wishes to create a work environment that promotes job satisfaction, respect, responsibility, integrity, and value for\\nall our employees, clients, customers, and other stakeholders. We all share in the responsibility of improving the quality of\\n13', mimetype='text/plain', start_char_idx=2164, end_char_idx=3268, text_template='{metadata_str}\\n\\n{content}', metadata_template='{key}: {value}', metadata_seperator='\\n'), score=0.3681172296149041)]"
      ]
     },
     "execution_count": 150,
     "metadata": {},
     "output_type": "execute_result"
    }
   ],
   "source": []
  },
  {
   "cell_type": "code",
   "execution_count": 142,
   "metadata": {},
   "outputs": [
    {
     "data": {
      "text/plain": [
       "[NodeWithScore(node=TextNode(id_='a0a0a99b-db00-4043-9660-f0f5c5b00cfe', embedding=None, metadata={'page_label': '15', 'file_name': 'handbook.pdf', 'file_path': 'handbook.pdf', 'file_type': 'application/pdf', 'file_size': 325352, 'creation_date': '2024-11-07', 'last_modified_date': '2024-11-07'}, excluded_embed_metadata_keys=['file_name', 'file_type', 'file_size', 'creation_date', 'last_modified_date', 'last_accessed_date'], excluded_llm_metadata_keys=['file_name', 'file_type', 'file_size', 'creation_date', 'last_modified_date', 'last_accessed_date'], relationships={<NodeRelationship.SOURCE: '1'>: RelatedNodeInfo(node_id='ff06e053-7b6e-4e15-ad06-8a98f10415d6', node_type=<ObjectType.DOCUMENT: '4'>, metadata={'page_label': '15', 'file_name': 'handbook.pdf', 'file_path': 'handbook.pdf', 'file_type': 'application/pdf', 'file_size': 325352, 'creation_date': '2024-11-07', 'last_modified_date': '2024-11-07'}, hash='358037d7996c62e29453cda30b7ee338b1fff519507f0bf0e2b8864741d0c46d'), <NodeRelationship.NEXT: '3'>: RelatedNodeInfo(node_id='1376b096-21ec-431a-aafd-9973b8811c8b', node_type=<ObjectType.TEXT: '1'>, metadata={}, hash='d2543b0c59cba271826f4238865331bdaacdf27ec5bba0995213f42eb77abf55')}, text='Software programs purchased and provided by Zania, Inc. are to be used only for creating, researching, and processing\\nmaterials for Company use. By using Company hardware, software, and networking systems you assume personal\\nresponsibility for their use and agree to comply with this policy and other applicable Company policies, as well as city, state,\\nand federal laws and regulations.\\nAll software acquired for or on behalf of the Company, or developed by Company employees or contract personnel on behalf\\nof the Company, is and will be deemed Company property. It is the policy of the Company to respect all computer software\\nrights and to adhere to the terms of all software licenses to which the Company is a party. The [[Director of Information\\nSystems]] is responsible for enforcing these guidelines.\\nYou may not illegally duplicate any licensed software or related documentation. Unauthorized duplication of software may\\nsubject you and/or the Company to both civil and criminal penalties under the United States Copyright Act. To purchase\\nsoftware, obtain your manager\\'s approval. All software acquired by the Company must be purchased through [[Information\\nSystems or appropriate department]].\\nYou may not duplicate, copy, or give software to any outsiders including clients, contractors, customers, and others. You\\nmay use software on local area networks or on multiple machines only in accordance with applicable license agreements\\nentered into by the Company.\\n6.2 \\nEmployer Sponsored Social Events\\nZania, Inc. holds periodic social events for employees. Be advised that your attendance at these events is voluntary and\\ndoes not constitute part of your work-related duties. Any exceptions to this policy must be in writing and signed by a\\nManager prior to the event.\\nAlcoholic beverages may be available at these events. If you choose to drink alcoholic beverages, you must do so in a\\nresponsible manner. Do not drink and drive. Instead, please call a taxi or appoint a designated driver.\\n6.3 \\nEmployer-Provided Cell Phones/Mobile Devices\\nZania, Inc. may issue certain employees a Company cell phone/mobile device for work-related communications and/or\\noperations. If you drive a vehicle during your employment, you may not use any cell phone/mobile device or other\\ncommunication device while driving unless the device is equipped or configured with a \"hands-free\" listening/speaking\\noption, and you in fact utilize the hands-free device.', mimetype='text/plain', start_char_idx=0, end_char_idx=2451, text_template='{metadata_str}\\n\\n{content}', metadata_template='{key}: {value}', metadata_seperator='\\n'), score=0.3797657790415764),\n",
       " NodeWithScore(node=TextNode(id_='26b52e78-65ce-4054-a326-1b8c935f783f', embedding=None, metadata={'page_label': '13', 'file_name': 'handbook.pdf', 'file_path': 'handbook.pdf', 'file_type': 'application/pdf', 'file_size': 325352, 'creation_date': '2024-11-07', 'last_modified_date': '2024-11-07'}, excluded_embed_metadata_keys=['file_name', 'file_type', 'file_size', 'creation_date', 'last_modified_date', 'last_accessed_date'], excluded_llm_metadata_keys=['file_name', 'file_type', 'file_size', 'creation_date', 'last_modified_date', 'last_accessed_date'], relationships={<NodeRelationship.SOURCE: '1'>: RelatedNodeInfo(node_id='3de8b417-1aa4-483e-9766-0de9a3afc398', node_type=<ObjectType.DOCUMENT: '4'>, metadata={'page_label': '13', 'file_name': 'handbook.pdf', 'file_path': 'handbook.pdf', 'file_type': 'application/pdf', 'file_size': 325352, 'creation_date': '2024-11-07', 'last_modified_date': '2024-11-07'}, hash='559770aec6c64e700590e99485f07f5acd8d4411e10666a8f9dd20f62d81eac7'), <NodeRelationship.PREVIOUS: '2'>: RelatedNodeInfo(node_id='768f4361-5349-402e-8399-ae48ead5be84', node_type=<ObjectType.TEXT: '1'>, metadata={'page_label': '13', 'file_name': 'handbook.pdf', 'file_path': 'handbook.pdf', 'file_type': 'application/pdf', 'file_size': 325352, 'creation_date': '2024-11-07', 'last_modified_date': '2024-11-07'}, hash='d96eaeca8926c65335f85e2298da6299bf448cfaba1f20079b1f627b50cf5f84')}, text='The Company reserves the right to provide you with pay in lieu of notice in situations where job or business needs warrant.\\nFinal Pay\\nThe Company will pay separated employees in accordance with applicable laws and other sections of this handbook. \\nNotify the Company if your address changes during the calendar year in which resignation occurs to ensure tax information\\nis sent to the correct address.\\nReturn of Property\\nReturn all Company property at the time of separation, including [[list items to be returned, such as uniforms, cellphones,\\nkeys, tools, laptops, credit cards, and identification cards]]. Failure to return some items may result in deductions from your\\nfinal paycheck where state law allows. [[In some circumstances, the Company may pursue criminal charges for failure to\\nreturn Company property.]]\\n5.11 \\nStandards of Conduct\\nZania, Inc. wishes to create a work environment that promotes job satisfaction, respect, responsibility, integrity, and value for\\nall our employees, clients, customers, and other stakeholders. We all share in the responsibility of improving the quality of\\n13', mimetype='text/plain', start_char_idx=2164, end_char_idx=3268, text_template='{metadata_str}\\n\\n{content}', metadata_template='{key}: {value}', metadata_seperator='\\n'), score=0.3681172296149041)]"
      ]
     },
     "execution_count": 142,
     "metadata": {},
     "output_type": "execute_result"
    }
   ],
   "source": [
    "response.sources[0].raw_output.source_nodes"
   ]
  },
  {
   "cell_type": "code",
   "execution_count": 143,
   "metadata": {},
   "outputs": [
    {
     "data": {
      "text/plain": [
       "0.7372114382614361"
      ]
     },
     "execution_count": 143,
     "metadata": {},
     "output_type": "execute_result"
    }
   ],
   "source": [
    "sum([node.score for node in response.sources[1].raw_output.source_nodes])"
   ]
  },
  {
   "cell_type": "code",
   "execution_count": 144,
   "metadata": {},
   "outputs": [
    {
     "data": {
      "text/plain": [
       "0.7478830086564805"
      ]
     },
     "execution_count": 144,
     "metadata": {},
     "output_type": "execute_result"
    }
   ],
   "source": [
    "sum([node.score for node in response.sources[0].raw_output.source_nodes])"
   ]
  },
  {
   "cell_type": "code",
   "execution_count": 145,
   "metadata": {},
   "outputs": [
    {
     "data": {
      "text/plain": [
       "1.1642456615837546"
      ]
     },
     "execution_count": 145,
     "metadata": {},
     "output_type": "execute_result"
    }
   ],
   "source": [
    "sum([node.score for node in response.sources[2].raw_output.source_nodes])"
   ]
  },
  {
   "cell_type": "code",
   "execution_count": 146,
   "metadata": {},
   "outputs": [
    {
     "data": {
      "text/plain": [
       "0.34232271358908783"
      ]
     },
     "execution_count": 146,
     "metadata": {},
     "output_type": "execute_result"
    }
   ],
   "source": [
    "sum([node.score for node in response.sources[3].raw_output.source_nodes])"
   ]
  },
  {
   "cell_type": "code",
   "execution_count": 153,
   "metadata": {},
   "outputs": [
    {
     "data": {
      "text/plain": [
       "Response(response='The provided information does not contain any details about Elon Musk.', source_nodes=[NodeWithScore(node=TextNode(id_='bf73cf73-5e9c-42f1-8762-1e5f6b84ddd2', embedding=None, metadata={'page_label': '18', 'file_name': 'handbook.pdf', 'file_path': 'handbook.pdf', 'file_type': 'application/pdf', 'file_size': 325352, 'creation_date': '2024-11-07', 'last_modified_date': '2024-11-07'}, excluded_embed_metadata_keys=['file_name', 'file_type', 'file_size', 'creation_date', 'last_modified_date', 'last_accessed_date'], excluded_llm_metadata_keys=['file_name', 'file_type', 'file_size', 'creation_date', 'last_modified_date', 'last_accessed_date'], relationships={<NodeRelationship.SOURCE: '1'>: RelatedNodeInfo(node_id='38beb029-a70d-420b-a68f-f7d43ffe524d', node_type=<ObjectType.DOCUMENT: '4'>, metadata={'page_label': '18', 'file_name': 'handbook.pdf', 'file_path': 'handbook.pdf', 'file_type': 'application/pdf', 'file_size': 325352, 'creation_date': '2024-11-07', 'last_modified_date': '2024-11-07'}, hash='b884d584116e2b83b09dd1163374552534805255af54dea8d3ba5b18854465d6'), <NodeRelationship.PREVIOUS: '2'>: RelatedNodeInfo(node_id='32cd1c6a-86ea-4fcb-a2a3-afc00561351f', node_type=<ObjectType.TEXT: '1'>, metadata={'page_label': '18', 'file_name': 'handbook.pdf', 'file_path': 'handbook.pdf', 'file_type': 'application/pdf', 'file_size': 325352, 'creation_date': '2024-11-07', 'last_modified_date': '2024-11-07'}, hash='05330d2443f31156a89e04b09149f4622ea7d82d71d1a5c80567c031d2601163')}, text='financial or sales records/reports, marketing or business strategies/plans, product development, customer lists,\\npatents, trademarks, etc.) related to the Company.\\nDo not create a link from your personal blog, website, or other social networking site to a Company website that\\nidentifies you as speaking on behalf of the Company.\\nNever represent yourself as a spokesperson for the Company. If the Company is a subject of the content you are\\ncreating, do not represent yourself as speaking on behalf of the Company. Make it clear in your social media activity\\nthat you are speaking on your own behalf.\\nRespect copyright, trademark, third-party rights, and similar laws and use such protected information in compliance\\nwith applicable legal standards.\\nUsing Social Media at Work\\nDo not use social media while on your work time, unless it is work related as authorized by your manager or consistent with\\npolicies that cover equipment owned by the Company.\\nMedia Contacts\\nIf you are not authorized to speak on behalf of the Company, do not speak to the media on behalf of the Company. Direct all\\nmedia inquiries for official Company responses to Human Resources.\\n18', mimetype='text/plain', start_char_idx=2290, end_char_idx=3451, text_template='{metadata_str}\\n\\n{content}', metadata_template='{key}: {value}', metadata_seperator='\\n'), score=0.1838888771907379), NodeWithScore(node=TextNode(id_='32cd1c6a-86ea-4fcb-a2a3-afc00561351f', embedding=None, metadata={'page_label': '18', 'file_name': 'handbook.pdf', 'file_path': 'handbook.pdf', 'file_type': 'application/pdf', 'file_size': 325352, 'creation_date': '2024-11-07', 'last_modified_date': '2024-11-07'}, excluded_embed_metadata_keys=['file_name', 'file_type', 'file_size', 'creation_date', 'last_modified_date', 'last_accessed_date'], excluded_llm_metadata_keys=['file_name', 'file_type', 'file_size', 'creation_date', 'last_modified_date', 'last_accessed_date'], relationships={<NodeRelationship.SOURCE: '1'>: RelatedNodeInfo(node_id='38beb029-a70d-420b-a68f-f7d43ffe524d', node_type=<ObjectType.DOCUMENT: '4'>, metadata={'page_label': '18', 'file_name': 'handbook.pdf', 'file_path': 'handbook.pdf', 'file_type': 'application/pdf', 'file_size': 325352, 'creation_date': '2024-11-07', 'last_modified_date': '2024-11-07'}, hash='b884d584116e2b83b09dd1163374552534805255af54dea8d3ba5b18854465d6'), <NodeRelationship.NEXT: '3'>: RelatedNodeInfo(node_id='bf73cf73-5e9c-42f1-8762-1e5f6b84ddd2', node_type=<ObjectType.TEXT: '1'>, metadata={}, hash='5414d237ca08f01fd08058ccfeace06ddd15c7acb19954d9e2b55bec2ecf271c')}, text=\"certain responsibilities. To minimize risks to the Company, you are expected to follow our guidelines for appropriate use of\\nsocial media.\\nThis policy applies to all employees who work for the Company.\\nGuidelines\\nFor purposes of this policy, \\nsocial media\\n includes all means of communicating or posting information or content of any sort\\non the Internet, including to your own or someone else's web log or blog, journal or diary, personal website, social\\nnetworking or affinity website, web bulletin board or a chat room, whether associated or affiliated with the Company, as well\\nas any other form of electronic communication.\\nCompany principles, guidelines, and policies apply to online activities just as they apply to other areas of work. Ultimately,\\nyou are solely responsible for what you communicate in social media. You may be personally responsible for any litigation\\nthat may arise should you make unlawful defamatory, slanderous, or libelous statements against any customer, manager,\\nowner, or employees of the Company.\\nKnow and Follow the Rules\\nEnsure your postings are consistent with these guidelines. Postings that include unlawful discriminatory remarks,\\nharassment, and threats of violence or other unlawful conduct will not be tolerated and may subject you to disciplinary action\\nup to and including termination.\\nBe Respectful\\nThe Company cannot force or mandate respectful and courteous activity by employees on social media during nonworking\\ntime. If you decide to post complaints or criticism, avoid using statements, photographs, video, or audio that reasonably\\ncould be viewed as unlawful, slanderous, threatening, or that might constitute unlawful harassment. Examples of such\\nconduct might include defamatory or slanderous posts meant to harm someone's reputation or posts that could contribute to\\na hostile work environment on the basis of race, sex, disability, age, national origin, religion, veteran status, or any other\\nstatus or class protected by law or Company policy. Your personal posts and social media activity should not reflect upon or\\nrefer to the Company.\\nMaintain Accuracy and Confidentiality\\nWhen posting information:\\nMaintain the confidentiality of trade secrets, intellectual property, and confidential commercially-sensitive information\\n(i.e. financial or sales records/reports, marketing or business strategies/plans, product development, customer lists,\\npatents, trademarks, etc.) related to the Company.\", mimetype='text/plain', start_char_idx=0, end_char_idx=2453, text_template='{metadata_str}\\n\\n{content}', metadata_template='{key}: {value}', metadata_seperator='\\n'), score=0.15843383639834996)], metadata={'bf73cf73-5e9c-42f1-8762-1e5f6b84ddd2': {'page_label': '18', 'file_name': 'handbook.pdf', 'file_path': 'handbook.pdf', 'file_type': 'application/pdf', 'file_size': 325352, 'creation_date': '2024-11-07', 'last_modified_date': '2024-11-07'}, '32cd1c6a-86ea-4fcb-a2a3-afc00561351f': {'page_label': '18', 'file_name': 'handbook.pdf', 'file_path': 'handbook.pdf', 'file_type': 'application/pdf', 'file_size': 325352, 'creation_date': '2024-11-07', 'last_modified_date': '2024-11-07'}})"
      ]
     },
     "execution_count": 153,
     "metadata": {},
     "output_type": "execute_result"
    }
   ],
   "source": [
    "response.sources[3].raw_output"
   ]
  },
  {
   "cell_type": "code",
   "execution_count": null,
   "metadata": {},
   "outputs": [],
   "source": []
  },
  {
   "cell_type": "code",
   "execution_count": null,
   "metadata": {},
   "outputs": [],
   "source": []
  },
  {
   "cell_type": "code",
   "execution_count": null,
   "metadata": {},
   "outputs": [],
   "source": []
  },
  {
   "cell_type": "code",
   "execution_count": null,
   "metadata": {},
   "outputs": [],
   "source": []
  },
  {
   "cell_type": "code",
   "execution_count": null,
   "metadata": {},
   "outputs": [],
   "source": []
  },
  {
   "cell_type": "code",
   "execution_count": null,
   "metadata": {},
   "outputs": [],
   "source": []
  },
  {
   "cell_type": "code",
   "execution_count": null,
   "metadata": {},
   "outputs": [],
   "source": []
  },
  {
   "cell_type": "code",
   "execution_count": 108,
   "metadata": {},
   "outputs": [
    {
     "name": "stdout",
     "output_type": "stream",
     "text": [
      "Added user message to memory: Who is the CEO of the company?\n",
      "=== Calling Function ===\n",
      "Calling function: vector_tool with args: {\"query\": \"CEO of the company\"}\n",
      "=== Function Output ===\n",
      "Shruti Gupta is the CEO of Zania, Inc.\n",
      "=== LLM Response ===\n",
      "The CEO of Zania, Inc. is Shruti Gupta.\n"
     ]
    },
    {
     "data": {
      "text/plain": [
       "Response(response='The CEO of Zania, Inc. is Shruti Gupta.', source_nodes=[NodeWithScore(node=TextNode(id_='071a4c9f-8f5e-4ab9-bfa4-f66417a458e9', embedding=None, metadata={'page_label': '45', 'file_name': 'handbook.pdf', 'file_path': 'handbook.pdf', 'file_type': 'application/pdf', 'file_size': 325352, 'creation_date': '2024-11-07', 'last_modified_date': '2024-11-07'}, excluded_embed_metadata_keys=['file_name', 'file_type', 'file_size', 'creation_date', 'last_modified_date', 'last_accessed_date'], excluded_llm_metadata_keys=['file_name', 'file_type', 'file_size', 'creation_date', 'last_modified_date', 'last_accessed_date'], relationships={<NodeRelationship.SOURCE: '1'>: RelatedNodeInfo(node_id='2a88b4c2-ec83-47f9-b99f-f09672f84b75', node_type=<ObjectType.DOCUMENT: '4'>, metadata={'page_label': '45', 'file_name': 'handbook.pdf', 'file_path': 'handbook.pdf', 'file_type': 'application/pdf', 'file_size': 325352, 'creation_date': '2024-11-07', 'last_modified_date': '2024-11-07'}, hash='a0d672d419a755944866939c18c6972de2fa6ef104de934e2afdc4496686bca4')}, text='Closing Statement\\nThank you for reading our handbook. We hope it has provided you with an understanding of our mission, history, and\\nstructure as well as our current policies and guidelines. We look forward to working with you to create a successful\\nCompany and a safe, productive, and pleasant workplace.\\nShruti Gupta, CEO\\nZania, Inc.\\n45', mimetype='text/plain', start_char_idx=0, end_char_idx=338, text_template='{metadata_str}\\n\\n{content}', metadata_template='{key}: {value}', metadata_seperator='\\n'), score=0.3888713601600561), NodeWithScore(node=TextNode(id_='02f356d0-671e-44ee-af6e-7eea4b5d1419', embedding=None, metadata={'page_label': '11', 'file_name': 'handbook.pdf', 'file_path': 'handbook.pdf', 'file_type': 'application/pdf', 'file_size': 325352, 'creation_date': '2024-11-07', 'last_modified_date': '2024-11-07'}, excluded_embed_metadata_keys=['file_name', 'file_type', 'file_size', 'creation_date', 'last_modified_date', 'last_accessed_date'], excluded_llm_metadata_keys=['file_name', 'file_type', 'file_size', 'creation_date', 'last_modified_date', 'last_accessed_date'], relationships={<NodeRelationship.SOURCE: '1'>: RelatedNodeInfo(node_id='3bae3e3f-e82f-436b-bae3-6c184ef47e81', node_type=<ObjectType.DOCUMENT: '4'>, metadata={'page_label': '11', 'file_name': 'handbook.pdf', 'file_path': 'handbook.pdf', 'file_type': 'application/pdf', 'file_size': 325352, 'creation_date': '2024-11-07', 'last_modified_date': '2024-11-07'}, hash='bdc905474e501bd9f7bb18fb331820a575a00425cfd25d14e04046123c2097eb'), <NodeRelationship.NEXT: '3'>: RelatedNodeInfo(node_id='4e5ab6b7-c243-421e-a988-43829ea16ac5', node_type=<ObjectType.TEXT: '1'>, metadata={}, hash='c1bc6a4c07c20e03b54b94064da2f4b933fef43dc238b6cbd6f5d38c410750c2')}, text=\"You are to use rental firms having existing relationships with the Company and, where feasible, have negotiated discount\\nrates. Available reasonable transportation is to be used.\\nPersonal Vehicles\\nWhen using your own vehicle for business purposes, you must maintain insurance coverage as required by law and may not\\nhave more than [[2 points]] on your driving record. Travel between your home and primary office is not considered to be\\nbusiness travel. You may not use your personal vehicle for business travel without authorization. Every attempt should be\\nmade to utilize the use of courier and delivery services in order to avoid hazard of liability and the time away from work. You\\nwill be reimbursed for vehicle use at the standard IRS mileage rate. The [[President or Chief Executive Officer]] must\\nauthorize any deviation from this policy.\\nReporting\\nReport approved expenses and include a description of the expense, its business purpose, date, place, and the participants.\\nTravel Reservations\\nAirline travel, rental cars, and hotels must be booked through the corporate designated travel agency in order to be\\nreimbursed.\\n4.10 \\nUse of Employer Credit Cards\\nAll employees in the possession of a credit card issued by Zania, Inc. will adhere to the strictest guidelines of responsibility\\nfor the protection and proper use of that card. Credit card purchases related to Company vehicle use (gas, oil, etc.) under\\n$100 do not require prior approval. Credit card purchases for vehicle use over $100 and any other business purchases over\\n$25 must receive prior approval from your Manager.\\nSubmit all sales receipts generated by use of the Company credit card [[weekly/monthly]] to your Manager [[or appropriate\\ndepartment]]. Your Company credit card may not be used for personal reasons. Use of the Company credit card is restricted\\nto approved business related expenses.\\nAny unauthorized purchases made with a credit card issued by the Company will be the cardholder's responsibility. You\\nmust reimburse any such purchase to the Company within [[#]] days.\\nImmediately report lost or stolen Company cards to your Manager. Failure to follow this policy may result in disciplinary\\naction up to and including discharge.\\n5.0 \\nPerformance, Discipline, Layoff, and Termination\\n5.1 \\nCriminal Activity/Arrests\\nZania, Inc. will report all criminal activity in accordance with applicable law.\", mimetype='text/plain', start_char_idx=0, end_char_idx=2384, text_template='{metadata_str}\\n\\n{content}', metadata_template='{key}: {value}', metadata_seperator='\\n'), score=0.34834007810138007)], metadata=None)"
      ]
     },
     "execution_count": 108,
     "metadata": {},
     "output_type": "execute_result"
    }
   ],
   "source": [
    "agent.query(\"Who is the CEO of the company?\")"
   ]
  },
  {
   "cell_type": "code",
   "execution_count": 110,
   "metadata": {},
   "outputs": [
    {
     "name": "stdout",
     "output_type": "stream",
     "text": [
      "Added user message to memory: What is the name of the company? \n",
      " Who is the CEO of the company? \n",
      " What is their vacation policy? \n",
      " What is the termination policy?\n",
      "=== Calling Function ===\n",
      "Calling function: vector_tool with args: {\"query\": \"name of the company\"}\n",
      "=== Function Output ===\n",
      "Zania, Inc.\n",
      "=== Calling Function ===\n",
      "Calling function: vector_tool with args: {\"query\": \"CEO of the company\"}\n",
      "=== Function Output ===\n",
      "Shruti Gupta is the CEO of Zania, Inc.\n",
      "=== Calling Function ===\n",
      "Calling function: vector_tool with args: {\"query\": \"vacation policy\"}\n",
      "=== Function Output ===\n",
      "The vacation policy includes the following key points:\n",
      "\n",
      "1. Vacation granted during the first year of employment is prorated based on the hire date.\n",
      "2. Eligible employees accrue vacation at a specified rate for every period worked, up to a maximum amount. Once this maximum is reached, no additional vacation will accrue until some of the accrued vacation is used.\n",
      "3. Employees can begin using vacation immediately upon hire or after a specified period, and requests for vacation should be made in advance, considering business needs.\n",
      "4. Vacation must be taken in minimum increments, and unused vacation may be required to be used during certain leaves of absence.\n",
      "5. There are options for carrying over unused vacation to the following year or forfeiting it, depending on the company's policy and applicable laws.\n",
      "6. Upon separation of employment, employees may forfeit or be paid for any earned but unused vacation time, depending on state law.\n",
      "=== Calling Function ===\n",
      "Calling function: vector_tool with args: {\"query\": \"termination policy\"}\n",
      "=== Function Output ===\n",
      "Employment is on an \"at-will\" basis, meaning it can be terminated at any time, with or without notice and with or without cause. Employees also have the right to leave the company under the same conditions. The handbook does not create a contract for guaranteed or continued employment, and only the CEO can make promises regarding employment guarantees, which must be in writing and signed. If there is a written contract that conflicts with the handbook, the contract takes precedence.\n",
      "=== LLM Response ===\n",
      "- **Company Name:** Zania, Inc.\n",
      "- **CEO:** Shruti Gupta is the CEO of Zania, Inc.\n",
      "- **Vacation Policy:** \n",
      "  - Vacation granted during the first year of employment is prorated based on the hire date.\n",
      "  - Eligible employees accrue vacation at a specified rate for every period worked, up to a maximum amount. Once this maximum is reached, no additional vacation will accrue until some of the accrued vacation is used.\n",
      "  - Employees can begin using vacation immediately upon hire or after a specified period, and requests for vacation should be made in advance, considering business needs.\n",
      "  - Vacation must be taken in minimum increments, and unused vacation may be required to be used during certain leaves of absence.\n",
      "  - There are options for carrying over unused vacation to the following year or forfeiting it, depending on the company's policy and applicable laws.\n",
      "  - Upon separation of employment, employees may forfeit or be paid for any earned but unused vacation time, depending on state law.\n",
      "- **Termination Policy:** Employment is on an \"at-will\" basis, meaning it can be terminated at any time, with or without notice and with or without cause. Employees also have the right to leave the company under the same conditions. The handbook does not create a contract for guaranteed or continued employment, and only the CEO can make promises regarding employment guarantees, which must be in writing and signed. If there is a written contract that conflicts with the handbook, the contract takes precedence.\n"
     ]
    }
   ],
   "source": [
    "response = agent.query(\"What is the name of the company? \\n Who is the CEO of the company? \\n What is their vacation policy? \\n What is the termination policy?\")"
   ]
  },
  {
   "cell_type": "code",
   "execution_count": 115,
   "metadata": {},
   "outputs": [
    {
     "name": "stdout",
     "output_type": "stream",
     "text": [
      "('> Source (Doc id: 3742cc7d-3b65-4bed-bbdd-1108e8cb9c3f): Software programs '\n",
      " 'purchased and provided by Zania, Inc. are to be used only for creating, '\n",
      " 'researc...\\n'\n",
      " '\\n'\n",
      " '> Source (Doc id: 90f07bd5-87c3-49bc-ae90-f1692e8e06c6): The Company '\n",
      " 'reserves the right to provide you with pay in lieu of notice in situations '\n",
      " 'where job ...\\n'\n",
      " '\\n'\n",
      " '> Source (Doc id: 071a4c9f-8f5e-4ab9-bfa4-f66417a458e9): Closing Statement\\n'\n",
      " 'Thank you for reading our handbook. We hope it has provided you with an '\n",
      " 'underst...\\n'\n",
      " '\\n'\n",
      " '> Source (Doc id: 02f356d0-671e-44ee-af6e-7eea4b5d1419): You are to use '\n",
      " 'rental firms having existing relationships with the Company and, where '\n",
      " 'feasible, h...\\n'\n",
      " '\\n'\n",
      " '> Source (Doc id: 2a148360-810f-4f73-945c-b3ad5f90e1be): Vacation granted '\n",
      " 'during your first year of employment will be prorated based on your hire '\n",
      " 'date.\\n'\n",
      " '[...\\n'\n",
      " '\\n'\n",
      " '> Source (Doc id: efc244aa-c4f7-40e2-8ce5-008120f78029): [[The Company may '\n",
      " 'elect to offer\\n'\n",
      " 'payment for the unused time [on or about your anniversary date/a...\\n'\n",
      " '\\n'\n",
      " '> Source (Doc id: 7d34e6e9-7cce-4953-bd73-b80f9620b2c4): 13 Workforce '\n",
      " 'Reductions (Layoffs)\\n'\n",
      " '14\\n'\n",
      " '6.0 GENERAL POLICIES\\n'\n",
      " '14\\n'\n",
      " '6.1 Computer Security and Copying of...\\n'\n",
      " '\\n'\n",
      " '> Source (Doc id: 20a40c29-c644-4687-81f7-a11dbcbf1d97): is on an \"at-will\" '\n",
      " 'basis. This means your employment may be terminated at any time, with\\n'\n",
      " 'or witho...')\n"
     ]
    }
   ],
   "source": [
    "pprint(response.get_formatted_sources())"
   ]
  },
  {
   "cell_type": "code",
   "execution_count": 120,
   "metadata": {},
   "outputs": [
    {
     "name": "stdout",
     "output_type": "stream",
     "text": [
      "Node ID: 3742cc7d-3b65-4bed-bbdd-1108e8cb9c3f\n",
      "Text: Software programs purchased and provided by Zania, Inc. are to\n",
      "be used only for creating, researching, and processing materials for\n",
      "Company use. By using Company hardware, software, and networking\n",
      "systems you assume personal responsibility for their use and agree to\n",
      "comply with this policy and other applicable Company policies, as well\n",
      "as city, ...\n",
      "Score:  0.380\n",
      "\n",
      "Node ID: 90f07bd5-87c3-49bc-ae90-f1692e8e06c6\n",
      "Text: The Company reserves the right to provide you with pay in lieu\n",
      "of notice in situations where job or business needs warrant. Final Pay\n",
      "The Company will pay separated employees in accordance with applicable\n",
      "laws and other sections of this handbook.  Notify the Company if your\n",
      "address changes during the calendar year in which resignation occurs\n",
      "to ...\n",
      "Score:  0.368\n",
      "\n",
      "Node ID: 071a4c9f-8f5e-4ab9-bfa4-f66417a458e9\n",
      "Text: Closing Statement Thank you for reading our handbook. We hope it\n",
      "has provided you with an understanding of our mission, history, and\n",
      "structure as well as our current policies and guidelines. We look\n",
      "forward to working with you to create a successful Company and a safe,\n",
      "productive, and pleasant workplace. Shruti Gupta, CEO Zania, Inc. 45\n",
      "Score:  0.389\n",
      "\n",
      "Node ID: 02f356d0-671e-44ee-af6e-7eea4b5d1419\n",
      "Text: You are to use rental firms having existing relationships with\n",
      "the Company and, where feasible, have negotiated discount rates.\n",
      "Available reasonable transportation is to be used. Personal Vehicles\n",
      "When using your own vehicle for business purposes, you must maintain\n",
      "insurance coverage as required by law and may not have more than [[2\n",
      "points]] on ...\n",
      "Score:  0.348\n",
      "\n",
      "Node ID: 2a148360-810f-4f73-945c-b3ad5f90e1be\n",
      "Text: Vacation granted during your first year of employment will be\n",
      "prorated based on your hire date. [[ OR ]] [[ Option 2 :]] All\n",
      "eligible employees will accrue [[# hours/days/weeks]] of vacation for\n",
      "every [[period of time]] worked, up to a maximum accrual of [[#\n",
      "hours/days/weeks]].  Once you reach the maximum accrual amount, you\n",
      "will not accrue any ...\n",
      "Score:  0.595\n",
      "\n",
      "Node ID: efc244aa-c4f7-40e2-8ce5-008120f78029\n",
      "Text: [[The Company may elect to offer payment for the unused time [on\n",
      "or about your anniversary date/at the beginning of the following\n",
      "[calendar/fiscal] year].]] [[ OR ]] [[ OPTIONAL LANGUAGE FOR ALL\n",
      "STATES EXCEPT CALIFORNIA, COLORADO, MONTANA, AND NEBRASKA. DO NOT USE\n",
      "THIS LANGUAGE FOR CALIFORNIA, COLORADO, MONTANA, OR NEBRASKA\n",
      "HANDBOOKS. ]] [[You m...\n",
      "Score:  0.570\n",
      "\n",
      "Node ID: 7d34e6e9-7cce-4953-bd73-b80f9620b2c4\n",
      "Text: 13 Workforce Reductions (Layoffs) 14 6.0 GENERAL POLICIES 14 6.1\n",
      "Computer Security and Copying of Software 14 6.2 Employer Sponsored\n",
      "Social Events 15 6.3 Employer-Provided Cell Phones/Mobile Devices 15\n",
      "6.4 Nonsolicitation/Nondistribution Policy 15 6.5 Off-Duty Use of\n",
      "Employer Property or Premises 16 6.6 Personal Appearance 16 6.7\n",
      "Personal Cell P...\n",
      "Score:  0.421\n",
      "\n",
      "Node ID: 20a40c29-c644-4687-81f7-a11dbcbf1d97\n",
      "Text: is on an \"at-will\" basis. This means your employment may be\n",
      "terminated at any time, with or without notice and with or without\n",
      "cause. Likewise, we respect your right to leave the Company at any\n",
      "time, with or without notice and with or without cause.  Nothing in\n",
      "this handbook or any other Company document should be understood as\n",
      "creating a contra...\n",
      "Score:  0.409\n",
      "\n"
     ]
    }
   ],
   "source": [
    "for node in response.source_nodes:\n",
    "    print(node)"
   ]
  },
  {
   "cell_type": "code",
   "execution_count": 146,
   "metadata": {},
   "outputs": [],
   "source": [
    "task = agent.create_task(\"What is the name of the company? \\n Who is the CEO of the company? \\n What is their vacation policy? \\n What is the termination policy?\")"
   ]
  },
  {
   "cell_type": "code",
   "execution_count": 147,
   "metadata": {},
   "outputs": [
    {
     "data": {
      "text/plain": [
       "(1, 0, 0)"
      ]
     },
     "execution_count": 147,
     "metadata": {},
     "output_type": "execute_result"
    }
   ],
   "source": [
    "len(agent.get_upcoming_steps(task.task_id)), len(agent.get_completed_steps(task.task_id)), len(agent.get_completed_tasks())"
   ]
  },
  {
   "cell_type": "code",
   "execution_count": 176,
   "metadata": {},
   "outputs": [],
   "source": [
    "agent2 = StructuredPlannerAgent(\n",
    "    agent_worker,\n",
    "    tools=[doc_vector_tool], \n",
    "    verbose=True\n",
    ")"
   ]
  },
  {
   "cell_type": "code",
   "execution_count": 177,
   "metadata": {},
   "outputs": [
    {
     "data": {
      "text/plain": [
       "<llama_index.core.agent.runner.planner.StructuredPlannerAgent object at 0x000001B66504A260>"
      ]
     },
     "execution_count": 177,
     "metadata": {},
     "output_type": "execute_result"
    }
   ],
   "source": [
    "agent2"
   ]
  },
  {
   "cell_type": "code",
   "execution_count": 178,
   "metadata": {},
   "outputs": [
    {
     "name": "stdout",
     "output_type": "stream",
     "text": [
      "=== Initial plan ===\n",
      "Extract company name:\n",
      "What is the name of the company? -> [Company Name]\n",
      "deps: []\n",
      "\n",
      "\n",
      "Extract CEO name:\n",
      "Who is the CEO of the company? -> [CEO Name]\n",
      "deps: ['Extract company name']\n",
      "\n",
      "\n",
      "Extract vacation policy:\n",
      "What is their vacation policy? -> [Vacation Policy]\n",
      "deps: ['Extract company name']\n",
      "\n",
      "\n",
      "Extract termination policy:\n",
      "What is the termination policy? -> [Termination Policy]\n",
      "deps: ['Extract company name']\n",
      "\n",
      "\n"
     ]
    }
   ],
   "source": [
    "plan_id = agent2.create_plan(\"What is the name of the company? \\n Who is the CEO of the company? \\n What is their vacation policy? \\n What is the termination policy?\")"
   ]
  },
  {
   "cell_type": "code",
   "execution_count": 180,
   "metadata": {},
   "outputs": [
    {
     "name": "stdout",
     "output_type": "stream",
     "text": [
      "===== Sub Task Extract company name =====\n",
      "Expected output:  [Company Name]\n",
      "Dependencies:  []\n",
      "===== Sub Task Extract CEO name =====\n",
      "Expected output:  [CEO Name]\n",
      "Dependencies:  ['Extract company name']\n",
      "===== Sub Task Extract vacation policy =====\n",
      "Expected output:  [Vacation Policy]\n",
      "Dependencies:  ['Extract company name']\n",
      "===== Sub Task Extract termination policy =====\n",
      "Expected output:  [Termination Policy]\n",
      "Dependencies:  ['Extract company name']\n"
     ]
    }
   ],
   "source": [
    "plan = agent2.state.plan_dict[plan_id]\n",
    "\n",
    "for sub_task in plan.sub_tasks:\n",
    "    print(f\"===== Sub Task {sub_task.name} =====\")\n",
    "    print(\"Expected output: \", sub_task.expected_output)\n",
    "    print(\"Dependencies: \", sub_task.dependencies)"
   ]
  },
  {
   "cell_type": "code",
   "execution_count": 181,
   "metadata": {},
   "outputs": [
    {
     "name": "stdout",
     "output_type": "stream",
     "text": [
      "===== Sub Task Extract company name =====\n",
      "Expected output:  [Company Name]\n",
      "Dependencies:  []\n"
     ]
    }
   ],
   "source": [
    "next_tasks = agent2.state.get_next_sub_tasks(plan_id)\n",
    "step_reponses = []\n",
    "\n",
    "for sub_task in next_tasks:\n",
    "    print(f\"===== Sub Task {sub_task.name} =====\")\n",
    "    print(\"Expected output: \", sub_task.expected_output)\n",
    "    print(\"Dependencies: \", sub_task.dependencies)"
   ]
  },
  {
   "cell_type": "code",
   "execution_count": null,
   "metadata": {},
   "outputs": [
    {
     "data": {
      "text/plain": [
       "1"
      ]
     },
     "execution_count": 186,
     "metadata": {},
     "output_type": "execute_result"
    }
   ],
   "source": [
    "agent2.state.get_next_"
   ]
  },
  {
   "cell_type": "code",
   "execution_count": null,
   "metadata": {},
   "outputs": [
    {
     "ename": "TypeError",
     "evalue": "missing a required argument: 'task_id'",
     "output_type": "error",
     "traceback": [
      "\u001b[1;31m---------------------------------------------------------------------------\u001b[0m",
      "\u001b[1;31mTypeError\u001b[0m                                 Traceback (most recent call last)",
      "Cell \u001b[1;32mIn[183], line 1\u001b[0m\n\u001b[1;32m----> 1\u001b[0m \u001b[43magent2\u001b[49m\u001b[38;5;241;43m.\u001b[39;49m\u001b[43mget_completed_steps\u001b[49m\u001b[43m(\u001b[49m\u001b[43m)\u001b[49m\n",
      "File \u001b[1;32md:\\Nishanth\\Career\\Zania\\zania-challenge\\zania_env\\lib\\site-packages\\llama_index\\core\\instrumentation\\dispatcher.py:255\u001b[0m, in \u001b[0;36mDispatcher.span.<locals>.wrapper\u001b[1;34m(func, instance, args, kwargs)\u001b[0m\n\u001b[0;32m    253\u001b[0m \u001b[38;5;129m@wrapt\u001b[39m\u001b[38;5;241m.\u001b[39mdecorator\n\u001b[0;32m    254\u001b[0m \u001b[38;5;28;01mdef\u001b[39;00m \u001b[38;5;21mwrapper\u001b[39m(func: Callable, instance: Any, args: \u001b[38;5;28mlist\u001b[39m, kwargs: \u001b[38;5;28mdict\u001b[39m) \u001b[38;5;241m-\u001b[39m\u001b[38;5;241m>\u001b[39m Any:\n\u001b[1;32m--> 255\u001b[0m     bound_args \u001b[38;5;241m=\u001b[39m inspect\u001b[38;5;241m.\u001b[39msignature(func)\u001b[38;5;241m.\u001b[39mbind(\u001b[38;5;241m*\u001b[39margs, \u001b[38;5;241m*\u001b[39m\u001b[38;5;241m*\u001b[39mkwargs)\n\u001b[0;32m    256\u001b[0m     id_ \u001b[38;5;241m=\u001b[39m \u001b[38;5;124mf\u001b[39m\u001b[38;5;124m\"\u001b[39m\u001b[38;5;132;01m{\u001b[39;00mfunc\u001b[38;5;241m.\u001b[39m\u001b[38;5;18m__qualname__\u001b[39m\u001b[38;5;132;01m}\u001b[39;00m\u001b[38;5;124m-\u001b[39m\u001b[38;5;132;01m{\u001b[39;00muuid\u001b[38;5;241m.\u001b[39muuid4()\u001b[38;5;132;01m}\u001b[39;00m\u001b[38;5;124m\"\u001b[39m\n\u001b[0;32m    257\u001b[0m     tags \u001b[38;5;241m=\u001b[39m active_instrument_tags\u001b[38;5;241m.\u001b[39mget()\n",
      "File \u001b[1;32md:\\Nishanth\\Career\\Zania\\zania-challenge\\zania_env\\lib\\inspect.py:3186\u001b[0m, in \u001b[0;36mSignature.bind\u001b[1;34m(self, *args, **kwargs)\u001b[0m\n\u001b[0;32m   3181\u001b[0m \u001b[38;5;28;01mdef\u001b[39;00m \u001b[38;5;21mbind\u001b[39m(\u001b[38;5;28mself\u001b[39m, \u001b[38;5;241m/\u001b[39m, \u001b[38;5;241m*\u001b[39margs, \u001b[38;5;241m*\u001b[39m\u001b[38;5;241m*\u001b[39mkwargs):\n\u001b[0;32m   3182\u001b[0m \u001b[38;5;250m    \u001b[39m\u001b[38;5;124;03m\"\"\"Get a BoundArguments object, that maps the passed `args`\u001b[39;00m\n\u001b[0;32m   3183\u001b[0m \u001b[38;5;124;03m    and `kwargs` to the function's signature.  Raises `TypeError`\u001b[39;00m\n\u001b[0;32m   3184\u001b[0m \u001b[38;5;124;03m    if the passed arguments can not be bound.\u001b[39;00m\n\u001b[0;32m   3185\u001b[0m \u001b[38;5;124;03m    \"\"\"\u001b[39;00m\n\u001b[1;32m-> 3186\u001b[0m     \u001b[38;5;28;01mreturn\u001b[39;00m \u001b[38;5;28;43mself\u001b[39;49m\u001b[38;5;241;43m.\u001b[39;49m\u001b[43m_bind\u001b[49m\u001b[43m(\u001b[49m\u001b[43margs\u001b[49m\u001b[43m,\u001b[49m\u001b[43m \u001b[49m\u001b[43mkwargs\u001b[49m\u001b[43m)\u001b[49m\n",
      "File \u001b[1;32md:\\Nishanth\\Career\\Zania\\zania-challenge\\zania_env\\lib\\inspect.py:3101\u001b[0m, in \u001b[0;36mSignature._bind\u001b[1;34m(self, args, kwargs, partial)\u001b[0m\n\u001b[0;32m   3099\u001b[0m                 msg \u001b[38;5;241m=\u001b[39m \u001b[38;5;124m'\u001b[39m\u001b[38;5;124mmissing a required argument: \u001b[39m\u001b[38;5;132;01m{arg!r}\u001b[39;00m\u001b[38;5;124m'\u001b[39m\n\u001b[0;32m   3100\u001b[0m                 msg \u001b[38;5;241m=\u001b[39m msg\u001b[38;5;241m.\u001b[39mformat(arg\u001b[38;5;241m=\u001b[39mparam\u001b[38;5;241m.\u001b[39mname)\n\u001b[1;32m-> 3101\u001b[0m                 \u001b[38;5;28;01mraise\u001b[39;00m \u001b[38;5;167;01mTypeError\u001b[39;00m(msg) \u001b[38;5;28;01mfrom\u001b[39;00m \u001b[38;5;28;01mNone\u001b[39;00m\n\u001b[0;32m   3102\u001b[0m \u001b[38;5;28;01melse\u001b[39;00m:\n\u001b[0;32m   3103\u001b[0m     \u001b[38;5;66;03m# We have a positional argument to process\u001b[39;00m\n\u001b[0;32m   3104\u001b[0m     \u001b[38;5;28;01mtry\u001b[39;00m:\n",
      "\u001b[1;31mTypeError\u001b[0m: missing a required argument: 'task_id'"
     ]
    }
   ],
   "source": [
    "task = agent2.state.get_task()"
   ]
  },
  {
   "cell_type": "code",
   "execution_count": null,
   "metadata": {},
   "outputs": [],
   "source": []
  },
  {
   "cell_type": "code",
   "execution_count": 189,
   "metadata": {},
   "outputs": [],
   "source": [
    "# create the react worker for reasoning\n",
    "worker = FunctionCallingAgentWorker.from_tools(\n",
    "    [doc_vector_tool], verbose=True\n",
    ")\n",
    "\n",
    "# wrap the worker in the top-level planner\n",
    "agent = StructuredPlannerAgent(\n",
    "    worker, tools=[doc_vector_tool], verbose=True\n",
    ")"
   ]
  },
  {
   "cell_type": "code",
   "execution_count": 190,
   "metadata": {},
   "outputs": [
    {
     "name": "stdout",
     "output_type": "stream",
     "text": [
      "=== Initial plan ===\n",
      "Extract company name:\n",
      "What is the name of the company? -> [Company Name]\n",
      "deps: []\n",
      "\n",
      "\n",
      "Extract CEO name:\n",
      "Who is the CEO of the company? -> [CEO Name]\n",
      "deps: ['Extract company name']\n",
      "\n",
      "\n",
      "Extract vacation policy:\n",
      "What is their vacation policy? -> [Vacation Policy]\n",
      "deps: ['Extract company name']\n",
      "\n",
      "\n",
      "Extract termination policy:\n",
      "What is the termination policy? -> [Termination Policy]\n",
      "deps: ['Extract company name']\n",
      "\n",
      "\n"
     ]
    }
   ],
   "source": [
    "plan_id = agent.create_plan(\n",
    "    \"What is the name of the company? \\n Who is the CEO of the company? \\n What is their vacation policy? \\n What is the termination policy?\"\n",
    ")"
   ]
  },
  {
   "cell_type": "code",
   "execution_count": 192,
   "metadata": {},
   "outputs": [
    {
     "name": "stdout",
     "output_type": "stream",
     "text": [
      "> Running step 321f474e-a250-4494-8488-f3370cd23915. Step input: What is the name of the company?\n",
      "Added user message to memory: What is the name of the company?\n",
      "=== Calling Function ===\n",
      "Calling function: vector_tool with args: {\"query\": \"company name\"}\n",
      "=== Function Output ===\n",
      "Zania, Inc.\n",
      "> Running step a0a40151-0800-41bb-9187-8351b8867a7d. Step input: None\n",
      "=== LLM Response ===\n",
      "The name of the company is Zania, Inc.\n",
      "=== Refined plan ===\n",
      "Extract CEO name:\n",
      "Who is the CEO of the company Zania, Inc.? -> [CEO Name]\n",
      "deps: []\n",
      "\n",
      "\n",
      "Extract vacation policy:\n",
      "What is the vacation policy of Zania, Inc.? -> [Vacation Policy]\n",
      "deps: []\n",
      "\n",
      "\n",
      "Extract termination policy:\n",
      "What is the termination policy of Zania, Inc.? -> [Termination Policy]\n",
      "deps: []\n",
      "\n",
      "\n",
      "Compile company information:\n",
      "Compile the company name, CEO name, vacation policy, and termination policy for Zania, Inc. -> Company Name: Zania, Inc., CEO: [CEO Name], Vacation Policy: [Vacation Policy], Termination Policy: [Termination Policy]\n",
      "deps: ['Extract CEO name', 'Extract vacation policy', 'Extract termination policy']\n",
      "\n",
      "\n",
      "> Running step 79590268-768f-4ef4-b527-95d14cadb95f. Step input: Who is the CEO of the company?\n",
      "Added user message to memory: Who is the CEO of the company?\n",
      "> Running step 53dd6ca0-133f-4b6a-910e-27a2cb60b185. Step input: What is their vacation policy?\n",
      "Added user message to memory: What is their vacation policy?\n",
      "> Running step 561ecaf5-8bdf-4823-9f0a-46b4fe1961fd. Step input: What is the termination policy?\n",
      "Added user message to memory: What is the termination policy?\n",
      "=== Calling Function ===\n",
      "Calling function: vector_tool with args: {\"query\": \"CEO of the company\"}\n",
      "=== Calling Function ===\n",
      "Calling function: vector_tool with args: {\"query\": \"termination policy\"}\n",
      "=== Calling Function ===\n",
      "Calling function: vector_tool with args: {\"query\": \"vacation policy\"}\n",
      "=== Function Output ===\n",
      "Shruti Gupta is the CEO of Zania, Inc.\n",
      "> Running step bc800db6-b3dc-4283-9286-d4fb7d15d0d5. Step input: None\n",
      "=== Function Output ===\n",
      "Employment is on an \"at-will\" basis, meaning it can be terminated at any time, with or without notice and with or without cause. Employees also have the right to leave the company under the same conditions. The handbook does not create a contract for guaranteed or continued employment, and only the CEO can make promises regarding employment guarantees, which must be in writing and signed. If there is a written contract that conflicts with the handbook, the contract takes precedence.\n",
      "> Running step 80591a15-fb5d-468e-90f8-e715fb9d144a. Step input: None\n",
      "=== LLM Response ===\n",
      "The CEO of Zania, Inc. is Shruti Gupta.\n",
      "=== Function Output ===\n",
      "The vacation policy includes the following key points:\n",
      "\n",
      "1. Vacation granted during the first year of employment is prorated based on the hire date.\n",
      "2. Eligible employees accrue vacation at a specified rate for every period worked, up to a maximum amount. Once this maximum is reached, no additional vacation will accrue until some of the accrued vacation is used.\n",
      "3. Employees can begin using vacation immediately upon hire or after a specified period, and requests for vacation should be made in advance.\n",
      "4. Vacation must be taken in specified increments.\n",
      "5. Unused vacation may be carried over to the following year or may be forfeited, depending on the company's policy.\n",
      "6. Upon separation of employment, employees may forfeit or be paid for any earned but unused vacation time, depending on state law.\n",
      "> Running step 0d7bea39-8f05-459b-84c8-ac03726b16a3. Step input: None\n",
      "=== LLM Response ===\n",
      "The termination policy states that employment is on an \"at-will\" basis, meaning it can be terminated at any time, with or without notice and with or without cause. Employees also have the right to leave the company under the same conditions. The handbook does not create a contract for guaranteed or continued employment, and only the CEO can make promises regarding employment guarantees, which must be in writing and signed. If there is a written contract that conflicts with the handbook, the contract takes precedence.\n",
      "=== LLM Response ===\n",
      "The vacation policy includes the following key points:\n",
      "\n",
      "1. Vacation granted during the first year of employment is prorated based on the hire date.\n",
      "2. Eligible employees accrue vacation at a specified rate for every period worked, up to a maximum amount. Once this maximum is reached, no additional vacation will accrue until some of the accrued vacation is used.\n",
      "3. Employees can begin using vacation immediately upon hire or after a specified period, and requests for vacation should be made in advance.\n",
      "4. Vacation must be taken in specified increments.\n",
      "5. Unused vacation may be carried over to the following year or may be forfeited, depending on the company's policy.\n",
      "6. Upon separation of employment, employees may forfeit or be paid for any earned but unused vacation time, depending on state law.\n",
      "=== Refined plan ===\n",
      "Compile company information:\n",
      "Compile the company name, CEO name, vacation policy, and termination policy for Zania, Inc. -> Company Name: Zania, Inc., CEO: Shruti Gupta, Vacation Policy: [Vacation Policy], Termination Policy: [Termination Policy]\n",
      "deps: ['Extract CEO name', 'Extract vacation policy', 'Extract termination policy']\n",
      "\n",
      "\n",
      "Finalize company information:\n",
      "Finalize the compiled information for Zania, Inc. including the vacation policy and termination policy. -> Company Name: Zania, Inc., CEO: Shruti Gupta, Vacation Policy: [Detailed Vacation Policy], Termination Policy: [Detailed Termination Policy]\n",
      "deps: ['Compile company information']\n",
      "\n",
      "\n",
      "> Running step ac5b1afe-e978-488c-bbd5-c28443a412f3. Step input: Compile the company name, CEO name, vacation policy, and termination policy for Zania, Inc.\n",
      "Added user message to memory: Compile the company name, CEO name, vacation policy, and termination policy for Zania, Inc.\n",
      "=== LLM Response ===\n",
      "Here is the compiled information for Zania, Inc.:\n",
      "\n",
      "- **Company Name:** Zania, Inc.\n",
      "- **CEO Name:** Shruti Gupta\n",
      "- **Vacation Policy:**\n",
      "  1. Vacation granted during the first year of employment is prorated based on the hire date.\n",
      "  2. Eligible employees accrue vacation at a specified rate for every period worked, up to a maximum amount. Once this maximum is reached, no additional vacation will accrue until some of the accrued vacation is used.\n",
      "  3. Employees can begin using vacation immediately upon hire or after a specified period, and requests for vacation should be made in advance.\n",
      "  4. Vacation must be taken in specified increments.\n",
      "  5. Unused vacation may be carried over to the following year or may be forfeited, depending on the company's policy.\n",
      "  6. Upon separation of employment, employees may forfeit or be paid for any earned but unused vacation time, depending on state law.\n",
      "- **Termination Policy:**\n",
      "  Employment is on an \"at-will\" basis, meaning it can be terminated at any time, with or without notice and with or without cause. Employees also have the right to leave the company under the same conditions. The handbook does not create a contract for guaranteed or continued employment, and only the CEO can make promises regarding employment guarantees, which must be in writing and signed. If there is a written contract that conflicts with the handbook, the contract takes precedence.\n",
      "=== Refined plan ===\n",
      "Finalize company information:\n",
      "Finalize the compiled information for Zania, Inc. including the vacation policy and termination policy. -> Company Name: Zania, Inc., CEO: Shruti Gupta, Vacation Policy: [Detailed Vacation Policy], Termination Policy: [Detailed Termination Policy]\n",
      "deps: ['Compile company information']\n",
      "\n",
      "\n",
      "> Running step 89008f36-b65e-4e1b-8a1d-c483cf725373. Step input: Finalize the compiled information for Zania, Inc. including the vacation policy and termination policy.\n",
      "Added user message to memory: Finalize the compiled information for Zania, Inc. including the vacation policy and termination policy.\n",
      "=== LLM Response ===\n",
      "Here is the finalized information for Zania, Inc.:\n",
      "\n",
      "### Zania, Inc.\n",
      "\n",
      "- **Company Name:** Zania, Inc.\n",
      "- **CEO Name:** Shruti Gupta\n",
      "\n",
      "#### Vacation Policy:\n",
      "1. Vacation granted during the first year of employment is prorated based on the hire date.\n",
      "2. Eligible employees accrue vacation at a specified rate for every period worked, up to a maximum amount. Once this maximum is reached, no additional vacation will accrue until some of the accrued vacation is used.\n",
      "3. Employees can begin using vacation immediately upon hire or after a specified period, and requests for vacation should be made in advance.\n",
      "4. Vacation must be taken in specified increments.\n",
      "5. Unused vacation may be carried over to the following year or may be forfeited, depending on the company's policy.\n",
      "6. Upon separation of employment, employees may forfeit or be paid for any earned but unused vacation time, depending on state law.\n",
      "\n",
      "#### Termination Policy:\n",
      "Employment is on an \"at-will\" basis, meaning it can be terminated at any time, with or without notice and with or without cause. Employees also have the right to leave the company under the same conditions. The handbook does not create a contract for guaranteed or continued employment, and only the CEO can make promises regarding employment guarantees, which must be in writing and signed. If there is a written contract that conflicts with the handbook, the contract takes precedence.\n",
      "=== Refined plan ===\n",
      "Confirm company name:\n",
      "What is the name of the company? -> The name of the company is Zania, Inc.\n",
      "deps: []\n",
      "\n",
      "\n",
      "Confirm CEO name:\n",
      "Who is the CEO of the company? -> The CEO of the company is Shruti Gupta.\n",
      "deps: []\n",
      "\n",
      "\n",
      "Confirm vacation policy:\n",
      "What is their vacation policy? -> The vacation policy includes the following key points: 1. Vacation granted during the first year of employment is prorated based on the hire date. 2. Eligible employees accrue vacation at a specified rate for every period worked, up to a maximum amount. Once this maximum is reached, no additional vacation will accrue until some of the accrued vacation is used. 3. Employees can begin using vacation immediately upon hire or after a specified period, and requests for vacation should be made in advance. 4. Vacation must be taken in specified increments. 5. Unused vacation may be carried over to the following year or may be forfeited, depending on the company's policy. 6. Upon separation of employment, employees may forfeit or be paid for any earned but unused vacation time, depending on state law.\n",
      "deps: []\n",
      "\n",
      "\n",
      "Confirm termination policy:\n",
      "What is the termination policy? -> The termination policy states that employment is on an \"at-will\" basis, meaning it can be terminated at any time, with or without notice and with or without cause. Employees also have the right to leave the company under the same conditions. The handbook does not create a contract for guaranteed or continued employment, and only the CEO can make promises regarding employment guarantees, which must be in writing and signed. If there is a written contract that conflicts with the handbook, the contract takes precedence.\n",
      "deps: []\n",
      "\n",
      "\n",
      "> Running step 9e9315fc-1c02-4530-b315-1922487cf36c. Step input: What is the name of the company?\n",
      "Added user message to memory: What is the name of the company?\n",
      "> Running step 58f9037d-30cb-4d13-9b75-c530314ed7cc. Step input: Who is the CEO of the company?\n",
      "Added user message to memory: Who is the CEO of the company?\n",
      "> Running step fff441c8-bd53-41af-b5e0-1ffec707f74f. Step input: What is their vacation policy?\n",
      "Added user message to memory: What is their vacation policy?\n",
      "> Running step f8ccc76d-04e1-4632-a802-dec235982116. Step input: What is the termination policy?\n",
      "Added user message to memory: What is the termination policy?\n",
      "=== LLM Response ===\n",
      "The name of the company is Zania, Inc.\n",
      "=== LLM Response ===\n",
      "The CEO of Zania, Inc. is Shruti Gupta.\n",
      "=== LLM Response ===\n",
      "The termination policy for Zania, Inc. states that employment is on an \"at-will\" basis, meaning it can be terminated at any time, with or without notice and with or without cause. Employees also have the right to leave the company under the same conditions. The handbook does not create a contract for guaranteed or continued employment, and only the CEO can make promises regarding employment guarantees, which must be in writing and signed. If there is a written contract that conflicts with the handbook, the contract takes precedence.\n",
      "=== LLM Response ===\n",
      "The vacation policy for Zania, Inc. includes the following key points:\n",
      "\n",
      "1. Vacation granted during the first year of employment is prorated based on the hire date.\n",
      "2. Eligible employees accrue vacation at a specified rate for every period worked, up to a maximum amount. Once this maximum is reached, no additional vacation will accrue until some of the accrued vacation is used.\n",
      "3. Employees can begin using vacation immediately upon hire or after a specified period, and requests for vacation should be made in advance.\n",
      "4. Vacation must be taken in specified increments.\n",
      "5. Unused vacation may be carried over to the following year or may be forfeited, depending on the company's policy.\n",
      "6. Upon separation of employment, employees may forfeit or be paid for any earned but unused vacation time, depending on state law.\n",
      "=== Refined plan ===\n",
      "Confirm company name:\n",
      "What is the name of the company? -> The name of the company is Zania, Inc.\n",
      "deps: []\n",
      "\n",
      "\n",
      "Confirm CEO name:\n",
      "Who is the CEO of the company? -> The CEO of Zania, Inc. is Shruti Gupta.\n",
      "deps: []\n",
      "\n",
      "\n",
      "Confirm vacation policy:\n",
      "What is their vacation policy? -> The vacation policy includes the following key points: 1. Vacation granted during the first year of employment is prorated based on the hire date. 2. Eligible employees accrue vacation at a specified rate for every period worked, up to a maximum amount. Once this maximum is reached, no additional vacation will accrue until some of the accrued vacation is used. 3. Employees can begin using vacation immediately upon hire or after a specified period, and requests for vacation should be made in advance. 4. Vacation must be taken in specified increments. 5. Unused vacation may be carried over to the following year or may be forfeited, depending on the company's policy. 6. Upon separation of employment, employees may forfeit or be paid for any earned but unused vacation time, depending on state law.\n",
      "deps: []\n",
      "\n",
      "\n",
      "Confirm termination policy:\n",
      "What is the termination policy? -> The termination policy states that employment is on an \"at-will\" basis, meaning it can be terminated at any time, with or without notice and with or without cause. Employees also have the right to leave the company under the same conditions. The handbook does not create a contract for guaranteed or continued employment, and only the CEO can make promises regarding employment guarantees, which must be in writing and signed. If there is a written contract that conflicts with the handbook, the contract takes precedence.\n",
      "deps: []\n",
      "\n",
      "\n"
     ]
    }
   ],
   "source": [
    "import asyncio\n",
    "\n",
    "while True:\n",
    "    # are we done?\n",
    "    next_tasks = agent.get_next_tasks(plan_id)\n",
    "    if len(next_tasks) == 0:\n",
    "        break\n",
    "\n",
    "    # run concurrently for better performance\n",
    "    step_responses = await asyncio.gather(\n",
    "        *[agent.arun_task(task_id) for task_id in next_tasks]\n",
    "    )\n",
    "    for task_id in next_tasks:\n",
    "        agent.mark_task_complete(plan_id, task_id)\n",
    "\n",
    "    # refine the plan\n",
    "    await agent.arefine_plan(\n",
    "        \"What is the name of the company? \\n Who is the CEO of the company? \\n What is their vacation policy? \\n What is the termination policy?\",\n",
    "        plan_id,\n",
    "    )"
   ]
  },
  {
   "cell_type": "code",
   "execution_count": null,
   "metadata": {},
   "outputs": [],
   "source": []
  },
  {
   "cell_type": "code",
   "execution_count": null,
   "metadata": {},
   "outputs": [],
   "source": []
  },
  {
   "cell_type": "code",
   "execution_count": null,
   "metadata": {},
   "outputs": [],
   "source": []
  },
  {
   "cell_type": "code",
   "execution_count": null,
   "metadata": {},
   "outputs": [],
   "source": []
  },
  {
   "cell_type": "code",
   "execution_count": null,
   "metadata": {},
   "outputs": [],
   "source": []
  },
  {
   "cell_type": "code",
   "execution_count": null,
   "metadata": {},
   "outputs": [],
   "source": []
  },
  {
   "cell_type": "code",
   "execution_count": null,
   "metadata": {},
   "outputs": [],
   "source": []
  },
  {
   "cell_type": "code",
   "execution_count": null,
   "metadata": {},
   "outputs": [],
   "source": []
  },
  {
   "cell_type": "code",
   "execution_count": null,
   "metadata": {},
   "outputs": [],
   "source": []
  },
  {
   "cell_type": "code",
   "execution_count": null,
   "metadata": {},
   "outputs": [],
   "source": []
  },
  {
   "cell_type": "code",
   "execution_count": null,
   "metadata": {},
   "outputs": [],
   "source": []
  },
  {
   "cell_type": "code",
   "execution_count": null,
   "metadata": {},
   "outputs": [],
   "source": []
  },
  {
   "cell_type": "code",
   "execution_count": null,
   "metadata": {},
   "outputs": [],
   "source": []
  },
  {
   "cell_type": "code",
   "execution_count": null,
   "metadata": {},
   "outputs": [],
   "source": []
  },
  {
   "cell_type": "code",
   "execution_count": null,
   "metadata": {},
   "outputs": [],
   "source": []
  }
 ],
 "metadata": {
  "kernelspec": {
   "display_name": "Python 3",
   "language": "python",
   "name": "python3"
  },
  "language_info": {
   "codemirror_mode": {
    "name": "ipython",
    "version": 3
   },
   "file_extension": ".py",
   "mimetype": "text/x-python",
   "name": "python",
   "nbconvert_exporter": "python",
   "pygments_lexer": "ipython3",
   "version": "3.10.15"
  }
 },
 "nbformat": 4,
 "nbformat_minor": 2
}
